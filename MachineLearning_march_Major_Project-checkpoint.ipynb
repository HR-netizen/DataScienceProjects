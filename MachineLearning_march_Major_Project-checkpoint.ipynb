{
 "cells": [
  {
   "cell_type": "markdown",
   "id": "c753ca20",
   "metadata": {},
   "source": [
    "# Machine Learning March Major Project"
   ]
  },
  {
   "cell_type": "code",
   "execution_count": null,
   "id": "650f5c26",
   "metadata": {},
   "outputs": [],
   "source": []
  },
  {
   "cell_type": "code",
   "execution_count": null,
   "id": "790996bf",
   "metadata": {},
   "outputs": [],
   "source": [
    "import numpy as np\n",
    "import pandas as pd\n",
    "import matplotlib.pyplot as plt\n",
    "%matplotlib inline\n",
    "pd.options.display.max_seq_items = 2000\n",
    "pd.set_option('display.max_rows', =100)"
   ]
  },
  {
   "cell_type": "code",
   "execution_count": 440,
   "id": "1484c899",
   "metadata": {},
   "outputs": [],
   "source": [
    "from sklearn.preprocessing import LabelEncoder"
   ]
  },
  {
   "cell_type": "code",
   "execution_count": 441,
   "id": "207e0592",
   "metadata": {},
   "outputs": [
    {
     "data": {
      "text/html": [
       "<div>\n",
       "<style scoped>\n",
       "    .dataframe tbody tr th:only-of-type {\n",
       "        vertical-align: middle;\n",
       "    }\n",
       "\n",
       "    .dataframe tbody tr th {\n",
       "        vertical-align: top;\n",
       "    }\n",
       "\n",
       "    .dataframe thead th {\n",
       "        text-align: right;\n",
       "    }\n",
       "</style>\n",
       "<table border=\"1\" class=\"dataframe\">\n",
       "  <thead>\n",
       "    <tr style=\"text-align: right;\">\n",
       "      <th></th>\n",
       "      <th>39</th>\n",
       "      <th>State-gov</th>\n",
       "      <th>77516</th>\n",
       "      <th>Bachelors</th>\n",
       "      <th>13</th>\n",
       "      <th>Never-married</th>\n",
       "      <th>Adm-clerical</th>\n",
       "      <th>Not-in-family</th>\n",
       "      <th>White</th>\n",
       "      <th>Male</th>\n",
       "      <th>2174</th>\n",
       "      <th>0</th>\n",
       "      <th>40</th>\n",
       "      <th>United-States</th>\n",
       "      <th>&lt;=50K</th>\n",
       "    </tr>\n",
       "  </thead>\n",
       "  <tbody>\n",
       "    <tr>\n",
       "      <th>0</th>\n",
       "      <td>50</td>\n",
       "      <td>Self-emp-not-inc</td>\n",
       "      <td>83311</td>\n",
       "      <td>Bachelors</td>\n",
       "      <td>13</td>\n",
       "      <td>Married-civ-spouse</td>\n",
       "      <td>Exec-managerial</td>\n",
       "      <td>Husband</td>\n",
       "      <td>White</td>\n",
       "      <td>Male</td>\n",
       "      <td>0</td>\n",
       "      <td>0</td>\n",
       "      <td>13</td>\n",
       "      <td>United-States</td>\n",
       "      <td>&lt;=50K</td>\n",
       "    </tr>\n",
       "    <tr>\n",
       "      <th>1</th>\n",
       "      <td>38</td>\n",
       "      <td>Private</td>\n",
       "      <td>215646</td>\n",
       "      <td>HS-grad</td>\n",
       "      <td>9</td>\n",
       "      <td>Divorced</td>\n",
       "      <td>Handlers-cleaners</td>\n",
       "      <td>Not-in-family</td>\n",
       "      <td>White</td>\n",
       "      <td>Male</td>\n",
       "      <td>0</td>\n",
       "      <td>0</td>\n",
       "      <td>40</td>\n",
       "      <td>United-States</td>\n",
       "      <td>&lt;=50K</td>\n",
       "    </tr>\n",
       "    <tr>\n",
       "      <th>2</th>\n",
       "      <td>53</td>\n",
       "      <td>Private</td>\n",
       "      <td>234721</td>\n",
       "      <td>11th</td>\n",
       "      <td>7</td>\n",
       "      <td>Married-civ-spouse</td>\n",
       "      <td>Handlers-cleaners</td>\n",
       "      <td>Husband</td>\n",
       "      <td>Black</td>\n",
       "      <td>Male</td>\n",
       "      <td>0</td>\n",
       "      <td>0</td>\n",
       "      <td>40</td>\n",
       "      <td>United-States</td>\n",
       "      <td>&lt;=50K</td>\n",
       "    </tr>\n",
       "    <tr>\n",
       "      <th>3</th>\n",
       "      <td>28</td>\n",
       "      <td>Private</td>\n",
       "      <td>338409</td>\n",
       "      <td>Bachelors</td>\n",
       "      <td>13</td>\n",
       "      <td>Married-civ-spouse</td>\n",
       "      <td>Prof-specialty</td>\n",
       "      <td>Wife</td>\n",
       "      <td>Black</td>\n",
       "      <td>Female</td>\n",
       "      <td>0</td>\n",
       "      <td>0</td>\n",
       "      <td>40</td>\n",
       "      <td>Cuba</td>\n",
       "      <td>&lt;=50K</td>\n",
       "    </tr>\n",
       "    <tr>\n",
       "      <th>4</th>\n",
       "      <td>37</td>\n",
       "      <td>Private</td>\n",
       "      <td>284582</td>\n",
       "      <td>Masters</td>\n",
       "      <td>14</td>\n",
       "      <td>Married-civ-spouse</td>\n",
       "      <td>Exec-managerial</td>\n",
       "      <td>Wife</td>\n",
       "      <td>White</td>\n",
       "      <td>Female</td>\n",
       "      <td>0</td>\n",
       "      <td>0</td>\n",
       "      <td>40</td>\n",
       "      <td>United-States</td>\n",
       "      <td>&lt;=50K</td>\n",
       "    </tr>\n",
       "  </tbody>\n",
       "</table>\n",
       "</div>"
      ],
      "text/plain": [
       "   39          State-gov   77516   Bachelors   13        Never-married  \\\n",
       "0  50   Self-emp-not-inc   83311   Bachelors   13   Married-civ-spouse   \n",
       "1  38            Private  215646     HS-grad    9             Divorced   \n",
       "2  53            Private  234721        11th    7   Married-civ-spouse   \n",
       "3  28            Private  338409   Bachelors   13   Married-civ-spouse   \n",
       "4  37            Private  284582     Masters   14   Married-civ-spouse   \n",
       "\n",
       "         Adm-clerical   Not-in-family   White     Male   2174   0   40  \\\n",
       "0     Exec-managerial         Husband   White     Male      0   0   13   \n",
       "1   Handlers-cleaners   Not-in-family   White     Male      0   0   40   \n",
       "2   Handlers-cleaners         Husband   Black     Male      0   0   40   \n",
       "3      Prof-specialty            Wife   Black   Female      0   0   40   \n",
       "4     Exec-managerial            Wife   White   Female      0   0   40   \n",
       "\n",
       "    United-States   <=50K  \n",
       "0   United-States   <=50K  \n",
       "1   United-States   <=50K  \n",
       "2   United-States   <=50K  \n",
       "3            Cuba   <=50K  \n",
       "4   United-States   <=50K  "
      ]
     },
     "execution_count": 441,
     "metadata": {},
     "output_type": "execute_result"
    }
   ],
   "source": [
    "df=pd.read_csv(\"D:\\\\sk majorproject\\\\adult.csv\")\n",
    "df.head()"
   ]
  },
  {
   "cell_type": "code",
   "execution_count": 442,
   "id": "c77e411d",
   "metadata": {},
   "outputs": [
    {
     "data": {
      "text/plain": [
       "(32560, 15)"
      ]
     },
     "execution_count": 442,
     "metadata": {},
     "output_type": "execute_result"
    }
   ],
   "source": [
    "df.shape"
   ]
  },
  {
   "cell_type": "code",
   "execution_count": 443,
   "id": "b11e1fc2",
   "metadata": {},
   "outputs": [
    {
     "data": {
      "text/plain": [
       "Index(['39', ' State-gov', ' 77516', ' Bachelors', ' 13', ' Never-married',\n",
       "       ' Adm-clerical', ' Not-in-family', ' White', ' Male', ' 2174', ' 0',\n",
       "       ' 40', ' United-States', ' <=50K'],\n",
       "      dtype='object')"
      ]
     },
     "execution_count": 443,
     "metadata": {},
     "output_type": "execute_result"
    }
   ],
   "source": [
    "df.columns"
   ]
  },
  {
   "cell_type": "code",
   "execution_count": 444,
   "id": "44eed171",
   "metadata": {},
   "outputs": [],
   "source": [
    "duplicate = df[df.duplicated()]"
   ]
  },
  {
   "cell_type": "code",
   "execution_count": 445,
   "id": "a4e19a43",
   "metadata": {},
   "outputs": [
    {
     "data": {
      "text/plain": [
       "(24, 15)"
      ]
     },
     "execution_count": 445,
     "metadata": {},
     "output_type": "execute_result"
    }
   ],
   "source": [
    "duplicate.shape"
   ]
  },
  {
   "cell_type": "code",
   "execution_count": 446,
   "id": "d6bac6cc",
   "metadata": {},
   "outputs": [],
   "source": [
    "df.drop_duplicates(keep=False,inplace=True)"
   ]
  },
  {
   "cell_type": "code",
   "execution_count": 447,
   "id": "bc77fb66",
   "metadata": {},
   "outputs": [
    {
     "data": {
      "text/plain": [
       "(32513, 15)"
      ]
     },
     "execution_count": 447,
     "metadata": {},
     "output_type": "execute_result"
    }
   ],
   "source": [
    "df.shape"
   ]
  },
  {
   "cell_type": "code",
   "execution_count": null,
   "id": "30023a7c",
   "metadata": {},
   "outputs": [],
   "source": []
  },
  {
   "cell_type": "markdown",
   "id": "71c8ce31",
   "metadata": {},
   "source": [
    "</br>\n",
    "</br>\n",
    "</br>"
   ]
  },
  {
   "cell_type": "markdown",
   "id": "1281ff0f",
   "metadata": {},
   "source": [
    "## 1. Renaming the column names"
   ]
  },
  {
   "cell_type": "code",
   "execution_count": 448,
   "id": "1b8a1d7f",
   "metadata": {},
   "outputs": [
    {
     "data": {
      "text/html": [
       "<div>\n",
       "<style scoped>\n",
       "    .dataframe tbody tr th:only-of-type {\n",
       "        vertical-align: middle;\n",
       "    }\n",
       "\n",
       "    .dataframe tbody tr th {\n",
       "        vertical-align: top;\n",
       "    }\n",
       "\n",
       "    .dataframe thead th {\n",
       "        text-align: right;\n",
       "    }\n",
       "</style>\n",
       "<table border=\"1\" class=\"dataframe\">\n",
       "  <thead>\n",
       "    <tr style=\"text-align: right;\">\n",
       "      <th></th>\n",
       "      <th>Age</th>\n",
       "      <th>Workclass</th>\n",
       "      <th>Fnlwgt</th>\n",
       "      <th>Education</th>\n",
       "      <th>Education_num</th>\n",
       "      <th>Marital_status</th>\n",
       "      <th>Occupation</th>\n",
       "      <th>relationship</th>\n",
       "      <th>race</th>\n",
       "      <th>sex</th>\n",
       "      <th>capital_gain</th>\n",
       "      <th>capital_loss</th>\n",
       "      <th>hours_per_week</th>\n",
       "      <th>native_country</th>\n",
       "      <th>income</th>\n",
       "    </tr>\n",
       "  </thead>\n",
       "  <tbody>\n",
       "    <tr>\n",
       "      <th>0</th>\n",
       "      <td>50</td>\n",
       "      <td>Self-emp-not-inc</td>\n",
       "      <td>83311</td>\n",
       "      <td>Bachelors</td>\n",
       "      <td>13</td>\n",
       "      <td>Married-civ-spouse</td>\n",
       "      <td>Exec-managerial</td>\n",
       "      <td>Husband</td>\n",
       "      <td>White</td>\n",
       "      <td>Male</td>\n",
       "      <td>0</td>\n",
       "      <td>0</td>\n",
       "      <td>13</td>\n",
       "      <td>United-States</td>\n",
       "      <td>&lt;=50K</td>\n",
       "    </tr>\n",
       "    <tr>\n",
       "      <th>1</th>\n",
       "      <td>38</td>\n",
       "      <td>Private</td>\n",
       "      <td>215646</td>\n",
       "      <td>HS-grad</td>\n",
       "      <td>9</td>\n",
       "      <td>Divorced</td>\n",
       "      <td>Handlers-cleaners</td>\n",
       "      <td>Not-in-family</td>\n",
       "      <td>White</td>\n",
       "      <td>Male</td>\n",
       "      <td>0</td>\n",
       "      <td>0</td>\n",
       "      <td>40</td>\n",
       "      <td>United-States</td>\n",
       "      <td>&lt;=50K</td>\n",
       "    </tr>\n",
       "    <tr>\n",
       "      <th>2</th>\n",
       "      <td>53</td>\n",
       "      <td>Private</td>\n",
       "      <td>234721</td>\n",
       "      <td>11th</td>\n",
       "      <td>7</td>\n",
       "      <td>Married-civ-spouse</td>\n",
       "      <td>Handlers-cleaners</td>\n",
       "      <td>Husband</td>\n",
       "      <td>Black</td>\n",
       "      <td>Male</td>\n",
       "      <td>0</td>\n",
       "      <td>0</td>\n",
       "      <td>40</td>\n",
       "      <td>United-States</td>\n",
       "      <td>&lt;=50K</td>\n",
       "    </tr>\n",
       "    <tr>\n",
       "      <th>3</th>\n",
       "      <td>28</td>\n",
       "      <td>Private</td>\n",
       "      <td>338409</td>\n",
       "      <td>Bachelors</td>\n",
       "      <td>13</td>\n",
       "      <td>Married-civ-spouse</td>\n",
       "      <td>Prof-specialty</td>\n",
       "      <td>Wife</td>\n",
       "      <td>Black</td>\n",
       "      <td>Female</td>\n",
       "      <td>0</td>\n",
       "      <td>0</td>\n",
       "      <td>40</td>\n",
       "      <td>Cuba</td>\n",
       "      <td>&lt;=50K</td>\n",
       "    </tr>\n",
       "    <tr>\n",
       "      <th>4</th>\n",
       "      <td>37</td>\n",
       "      <td>Private</td>\n",
       "      <td>284582</td>\n",
       "      <td>Masters</td>\n",
       "      <td>14</td>\n",
       "      <td>Married-civ-spouse</td>\n",
       "      <td>Exec-managerial</td>\n",
       "      <td>Wife</td>\n",
       "      <td>White</td>\n",
       "      <td>Female</td>\n",
       "      <td>0</td>\n",
       "      <td>0</td>\n",
       "      <td>40</td>\n",
       "      <td>United-States</td>\n",
       "      <td>&lt;=50K</td>\n",
       "    </tr>\n",
       "  </tbody>\n",
       "</table>\n",
       "</div>"
      ],
      "text/plain": [
       "   Age          Workclass  Fnlwgt   Education  Education_num  \\\n",
       "0   50   Self-emp-not-inc   83311   Bachelors             13   \n",
       "1   38            Private  215646     HS-grad              9   \n",
       "2   53            Private  234721        11th              7   \n",
       "3   28            Private  338409   Bachelors             13   \n",
       "4   37            Private  284582     Masters             14   \n",
       "\n",
       "        Marital_status          Occupation    relationship    race      sex  \\\n",
       "0   Married-civ-spouse     Exec-managerial         Husband   White     Male   \n",
       "1             Divorced   Handlers-cleaners   Not-in-family   White     Male   \n",
       "2   Married-civ-spouse   Handlers-cleaners         Husband   Black     Male   \n",
       "3   Married-civ-spouse      Prof-specialty            Wife   Black   Female   \n",
       "4   Married-civ-spouse     Exec-managerial            Wife   White   Female   \n",
       "\n",
       "   capital_gain  capital_loss  hours_per_week  native_country  income  \n",
       "0             0             0              13   United-States   <=50K  \n",
       "1             0             0              40   United-States   <=50K  \n",
       "2             0             0              40   United-States   <=50K  \n",
       "3             0             0              40            Cuba   <=50K  \n",
       "4             0             0              40   United-States   <=50K  "
      ]
     },
     "execution_count": 448,
     "metadata": {},
     "output_type": "execute_result"
    }
   ],
   "source": [
    "df.columns= ['Age','Workclass','Fnlwgt','Education','Education_num','Marital_status','Occupation','relationship','race','sex', 'capital_gain','capital_loss', 'hours_per_week' ,'native_country', 'income']\n",
    "df.head()"
   ]
  },
  {
   "cell_type": "markdown",
   "id": "654f2008",
   "metadata": {},
   "source": [
    "#### Adding the previous column names as first row"
   ]
  },
  {
   "cell_type": "code",
   "execution_count": 449,
   "id": "1a15a439",
   "metadata": {},
   "outputs": [
    {
     "data": {
      "text/html": [
       "<div>\n",
       "<style scoped>\n",
       "    .dataframe tbody tr th:only-of-type {\n",
       "        vertical-align: middle;\n",
       "    }\n",
       "\n",
       "    .dataframe tbody tr th {\n",
       "        vertical-align: top;\n",
       "    }\n",
       "\n",
       "    .dataframe thead th {\n",
       "        text-align: right;\n",
       "    }\n",
       "</style>\n",
       "<table border=\"1\" class=\"dataframe\">\n",
       "  <thead>\n",
       "    <tr style=\"text-align: right;\">\n",
       "      <th></th>\n",
       "      <th>Age</th>\n",
       "      <th>Workclass</th>\n",
       "      <th>Fnlwgt</th>\n",
       "      <th>Education</th>\n",
       "      <th>Education_num</th>\n",
       "      <th>Marital_status</th>\n",
       "      <th>Occupation</th>\n",
       "      <th>relationship</th>\n",
       "      <th>race</th>\n",
       "      <th>sex</th>\n",
       "      <th>capital_gain</th>\n",
       "      <th>capital_loss</th>\n",
       "      <th>hours_per_week</th>\n",
       "      <th>native_country</th>\n",
       "      <th>income</th>\n",
       "    </tr>\n",
       "  </thead>\n",
       "  <tbody>\n",
       "    <tr>\n",
       "      <th>0</th>\n",
       "      <td>39</td>\n",
       "      <td>State-gov</td>\n",
       "      <td>77516</td>\n",
       "      <td>Bachelors</td>\n",
       "      <td>13</td>\n",
       "      <td>Never-married</td>\n",
       "      <td>Adm-clerical</td>\n",
       "      <td>Not-in-family</td>\n",
       "      <td>White</td>\n",
       "      <td>Male</td>\n",
       "      <td>2174</td>\n",
       "      <td>0</td>\n",
       "      <td>40</td>\n",
       "      <td>United-States</td>\n",
       "      <td>&lt;=50K</td>\n",
       "    </tr>\n",
       "    <tr>\n",
       "      <th>1</th>\n",
       "      <td>50</td>\n",
       "      <td>Self-emp-not-inc</td>\n",
       "      <td>83311</td>\n",
       "      <td>Bachelors</td>\n",
       "      <td>13</td>\n",
       "      <td>Married-civ-spouse</td>\n",
       "      <td>Exec-managerial</td>\n",
       "      <td>Husband</td>\n",
       "      <td>White</td>\n",
       "      <td>Male</td>\n",
       "      <td>0</td>\n",
       "      <td>0</td>\n",
       "      <td>13</td>\n",
       "      <td>United-States</td>\n",
       "      <td>&lt;=50K</td>\n",
       "    </tr>\n",
       "    <tr>\n",
       "      <th>2</th>\n",
       "      <td>38</td>\n",
       "      <td>Private</td>\n",
       "      <td>215646</td>\n",
       "      <td>HS-grad</td>\n",
       "      <td>9</td>\n",
       "      <td>Divorced</td>\n",
       "      <td>Handlers-cleaners</td>\n",
       "      <td>Not-in-family</td>\n",
       "      <td>White</td>\n",
       "      <td>Male</td>\n",
       "      <td>0</td>\n",
       "      <td>0</td>\n",
       "      <td>40</td>\n",
       "      <td>United-States</td>\n",
       "      <td>&lt;=50K</td>\n",
       "    </tr>\n",
       "    <tr>\n",
       "      <th>3</th>\n",
       "      <td>53</td>\n",
       "      <td>Private</td>\n",
       "      <td>234721</td>\n",
       "      <td>11th</td>\n",
       "      <td>7</td>\n",
       "      <td>Married-civ-spouse</td>\n",
       "      <td>Handlers-cleaners</td>\n",
       "      <td>Husband</td>\n",
       "      <td>Black</td>\n",
       "      <td>Male</td>\n",
       "      <td>0</td>\n",
       "      <td>0</td>\n",
       "      <td>40</td>\n",
       "      <td>United-States</td>\n",
       "      <td>&lt;=50K</td>\n",
       "    </tr>\n",
       "    <tr>\n",
       "      <th>4</th>\n",
       "      <td>28</td>\n",
       "      <td>Private</td>\n",
       "      <td>338409</td>\n",
       "      <td>Bachelors</td>\n",
       "      <td>13</td>\n",
       "      <td>Married-civ-spouse</td>\n",
       "      <td>Prof-specialty</td>\n",
       "      <td>Wife</td>\n",
       "      <td>Black</td>\n",
       "      <td>Female</td>\n",
       "      <td>0</td>\n",
       "      <td>0</td>\n",
       "      <td>40</td>\n",
       "      <td>Cuba</td>\n",
       "      <td>&lt;=50K</td>\n",
       "    </tr>\n",
       "  </tbody>\n",
       "</table>\n",
       "</div>"
      ],
      "text/plain": [
       "   Age          Workclass  Fnlwgt   Education  Education_num  \\\n",
       "0   39          State-gov   77516   Bachelors             13   \n",
       "1   50   Self-emp-not-inc   83311   Bachelors             13   \n",
       "2   38            Private  215646     HS-grad              9   \n",
       "3   53            Private  234721        11th              7   \n",
       "4   28            Private  338409   Bachelors             13   \n",
       "\n",
       "        Marital_status          Occupation    relationship    race      sex  \\\n",
       "0        Never-married        Adm-clerical   Not-in-family   White     Male   \n",
       "1   Married-civ-spouse     Exec-managerial         Husband   White     Male   \n",
       "2             Divorced   Handlers-cleaners   Not-in-family   White     Male   \n",
       "3   Married-civ-spouse   Handlers-cleaners         Husband   Black     Male   \n",
       "4   Married-civ-spouse      Prof-specialty            Wife   Black   Female   \n",
       "\n",
       "   capital_gain  capital_loss  hours_per_week  native_country  income  \n",
       "0          2174             0              40   United-States   <=50K  \n",
       "1             0             0              13   United-States   <=50K  \n",
       "2             0             0              40   United-States   <=50K  \n",
       "3             0             0              40   United-States   <=50K  \n",
       "4             0             0              40            Cuba   <=50K  "
      ]
     },
     "execution_count": 449,
     "metadata": {},
     "output_type": "execute_result"
    }
   ],
   "source": [
    "new_row = pd.DataFrame({'Age':39,'Workclass':'State-gov','Fnlwgt':'77516','Education':'Bachelors','Education_num':13,'Marital_status':'Never-married','Occupation':'Adm-clerical','relationship':'Not-in-family','race':'White','sex':'Male', 'capital_gain':2174,'capital_loss':0, 'hours_per_week':40 ,'native_country':'United-States', 'income':'<=50K'}, index =[0])\n",
    " \n",
    "df = pd.concat([new_row, df[:]]).reset_index(drop = True)\n",
    "df.head(5)"
   ]
  },
  {
   "cell_type": "markdown",
   "id": "daf0249e",
   "metadata": {},
   "source": [
    "</br>\n",
    "</br>\n",
    "</br>\n"
   ]
  },
  {
   "cell_type": "markdown",
   "id": "90cce87e",
   "metadata": {},
   "source": [
    "## 2. Handling Null values</br>\n",
    "\n"
   ]
  },
  {
   "cell_type": "code",
   "execution_count": 450,
   "id": "ff38f000",
   "metadata": {},
   "outputs": [
    {
     "data": {
      "text/plain": [
       "Age               0\n",
       "Workclass         0\n",
       "Fnlwgt            0\n",
       "Education         0\n",
       "Education_num     0\n",
       "Marital_status    0\n",
       "Occupation        0\n",
       "relationship      0\n",
       "race              0\n",
       "sex               0\n",
       "capital_gain      0\n",
       "capital_loss      0\n",
       "hours_per_week    0\n",
       "native_country    0\n",
       "income            0\n",
       "dtype: int64"
      ]
     },
     "execution_count": 450,
     "metadata": {},
     "output_type": "execute_result"
    }
   ],
   "source": [
    "df.isnull().sum()"
   ]
  },
  {
   "cell_type": "markdown",
   "id": "082f31fd",
   "metadata": {},
   "source": [
    "</br>\n"
   ]
  },
  {
   "cell_type": "code",
   "execution_count": 451,
   "id": "39a008b3",
   "metadata": {},
   "outputs": [
    {
     "data": {
      "text/plain": [
       "Index(['Age', 'Workclass', 'Fnlwgt', 'Education', 'Education_num',\n",
       "       'Marital_status', 'Occupation', 'relationship', 'race', 'sex',\n",
       "       'capital_gain', 'capital_loss', 'hours_per_week', 'native_country',\n",
       "       'income'],\n",
       "      dtype='object')"
      ]
     },
     "execution_count": 451,
     "metadata": {},
     "output_type": "execute_result"
    }
   ],
   "source": [
    "df.columns"
   ]
  },
  {
   "cell_type": "markdown",
   "id": "348896c3",
   "metadata": {},
   "source": [
    "## Column - Age"
   ]
  },
  {
   "cell_type": "code",
   "execution_count": 452,
   "id": "1c2a49aa",
   "metadata": {},
   "outputs": [
    {
     "data": {
      "text/plain": [
       "array([39, 50, 38, 53, 28, 37, 49, 52, 31, 42, 30, 23, 32, 40, 34, 25, 43,\n",
       "       54, 35, 59, 56, 19, 20, 45, 22, 48, 21, 24, 57, 44, 41, 29, 18, 47,\n",
       "       46, 36, 79, 27, 67, 33, 76, 17, 55, 61, 70, 64, 71, 68, 66, 51, 58,\n",
       "       26, 60, 90, 75, 65, 77, 62, 63, 80, 72, 74, 69, 73, 81, 78, 88, 82,\n",
       "       83, 84, 85, 86, 87], dtype=int64)"
      ]
     },
     "execution_count": 452,
     "metadata": {},
     "output_type": "execute_result"
    }
   ],
   "source": [
    "df['Age'].unique()"
   ]
  },
  {
   "cell_type": "markdown",
   "id": "f0eb5a2d",
   "metadata": {},
   "source": [
    "#### Changing Age column into AgeRange</br>"
   ]
  },
  {
   "cell_type": "code",
   "execution_count": 453,
   "id": "4f16ea12",
   "metadata": {},
   "outputs": [],
   "source": [
    "bins = [0, 2, 18, 35, 65, np.inf]\n",
    "names = ['<2', '2-18', '18-35', '35-65', '65+']\n",
    "\n",
    "df['AgeRange'] = pd.cut(df['Age'],bins,labels=names)"
   ]
  },
  {
   "cell_type": "code",
   "execution_count": 454,
   "id": "6196dcd2",
   "metadata": {},
   "outputs": [
    {
     "data": {
      "text/html": [
       "<div>\n",
       "<style scoped>\n",
       "    .dataframe tbody tr th:only-of-type {\n",
       "        vertical-align: middle;\n",
       "    }\n",
       "\n",
       "    .dataframe tbody tr th {\n",
       "        vertical-align: top;\n",
       "    }\n",
       "\n",
       "    .dataframe thead th {\n",
       "        text-align: right;\n",
       "    }\n",
       "</style>\n",
       "<table border=\"1\" class=\"dataframe\">\n",
       "  <thead>\n",
       "    <tr style=\"text-align: right;\">\n",
       "      <th></th>\n",
       "      <th>Age</th>\n",
       "      <th>Workclass</th>\n",
       "      <th>Fnlwgt</th>\n",
       "      <th>Education</th>\n",
       "      <th>Education_num</th>\n",
       "      <th>Marital_status</th>\n",
       "      <th>Occupation</th>\n",
       "      <th>relationship</th>\n",
       "      <th>race</th>\n",
       "      <th>sex</th>\n",
       "      <th>capital_gain</th>\n",
       "      <th>capital_loss</th>\n",
       "      <th>hours_per_week</th>\n",
       "      <th>native_country</th>\n",
       "      <th>income</th>\n",
       "      <th>AgeRange</th>\n",
       "    </tr>\n",
       "  </thead>\n",
       "  <tbody>\n",
       "    <tr>\n",
       "      <th>0</th>\n",
       "      <td>39</td>\n",
       "      <td>State-gov</td>\n",
       "      <td>77516</td>\n",
       "      <td>Bachelors</td>\n",
       "      <td>13</td>\n",
       "      <td>Never-married</td>\n",
       "      <td>Adm-clerical</td>\n",
       "      <td>Not-in-family</td>\n",
       "      <td>White</td>\n",
       "      <td>Male</td>\n",
       "      <td>2174</td>\n",
       "      <td>0</td>\n",
       "      <td>40</td>\n",
       "      <td>United-States</td>\n",
       "      <td>&lt;=50K</td>\n",
       "      <td>35-65</td>\n",
       "    </tr>\n",
       "    <tr>\n",
       "      <th>1</th>\n",
       "      <td>50</td>\n",
       "      <td>Self-emp-not-inc</td>\n",
       "      <td>83311</td>\n",
       "      <td>Bachelors</td>\n",
       "      <td>13</td>\n",
       "      <td>Married-civ-spouse</td>\n",
       "      <td>Exec-managerial</td>\n",
       "      <td>Husband</td>\n",
       "      <td>White</td>\n",
       "      <td>Male</td>\n",
       "      <td>0</td>\n",
       "      <td>0</td>\n",
       "      <td>13</td>\n",
       "      <td>United-States</td>\n",
       "      <td>&lt;=50K</td>\n",
       "      <td>35-65</td>\n",
       "    </tr>\n",
       "    <tr>\n",
       "      <th>2</th>\n",
       "      <td>38</td>\n",
       "      <td>Private</td>\n",
       "      <td>215646</td>\n",
       "      <td>HS-grad</td>\n",
       "      <td>9</td>\n",
       "      <td>Divorced</td>\n",
       "      <td>Handlers-cleaners</td>\n",
       "      <td>Not-in-family</td>\n",
       "      <td>White</td>\n",
       "      <td>Male</td>\n",
       "      <td>0</td>\n",
       "      <td>0</td>\n",
       "      <td>40</td>\n",
       "      <td>United-States</td>\n",
       "      <td>&lt;=50K</td>\n",
       "      <td>35-65</td>\n",
       "    </tr>\n",
       "    <tr>\n",
       "      <th>3</th>\n",
       "      <td>53</td>\n",
       "      <td>Private</td>\n",
       "      <td>234721</td>\n",
       "      <td>11th</td>\n",
       "      <td>7</td>\n",
       "      <td>Married-civ-spouse</td>\n",
       "      <td>Handlers-cleaners</td>\n",
       "      <td>Husband</td>\n",
       "      <td>Black</td>\n",
       "      <td>Male</td>\n",
       "      <td>0</td>\n",
       "      <td>0</td>\n",
       "      <td>40</td>\n",
       "      <td>United-States</td>\n",
       "      <td>&lt;=50K</td>\n",
       "      <td>35-65</td>\n",
       "    </tr>\n",
       "    <tr>\n",
       "      <th>4</th>\n",
       "      <td>28</td>\n",
       "      <td>Private</td>\n",
       "      <td>338409</td>\n",
       "      <td>Bachelors</td>\n",
       "      <td>13</td>\n",
       "      <td>Married-civ-spouse</td>\n",
       "      <td>Prof-specialty</td>\n",
       "      <td>Wife</td>\n",
       "      <td>Black</td>\n",
       "      <td>Female</td>\n",
       "      <td>0</td>\n",
       "      <td>0</td>\n",
       "      <td>40</td>\n",
       "      <td>Cuba</td>\n",
       "      <td>&lt;=50K</td>\n",
       "      <td>18-35</td>\n",
       "    </tr>\n",
       "  </tbody>\n",
       "</table>\n",
       "</div>"
      ],
      "text/plain": [
       "   Age          Workclass  Fnlwgt   Education  Education_num  \\\n",
       "0   39          State-gov   77516   Bachelors             13   \n",
       "1   50   Self-emp-not-inc   83311   Bachelors             13   \n",
       "2   38            Private  215646     HS-grad              9   \n",
       "3   53            Private  234721        11th              7   \n",
       "4   28            Private  338409   Bachelors             13   \n",
       "\n",
       "        Marital_status          Occupation    relationship    race      sex  \\\n",
       "0        Never-married        Adm-clerical   Not-in-family   White     Male   \n",
       "1   Married-civ-spouse     Exec-managerial         Husband   White     Male   \n",
       "2             Divorced   Handlers-cleaners   Not-in-family   White     Male   \n",
       "3   Married-civ-spouse   Handlers-cleaners         Husband   Black     Male   \n",
       "4   Married-civ-spouse      Prof-specialty            Wife   Black   Female   \n",
       "\n",
       "   capital_gain  capital_loss  hours_per_week  native_country  income AgeRange  \n",
       "0          2174             0              40   United-States   <=50K    35-65  \n",
       "1             0             0              13   United-States   <=50K    35-65  \n",
       "2             0             0              40   United-States   <=50K    35-65  \n",
       "3             0             0              40   United-States   <=50K    35-65  \n",
       "4             0             0              40            Cuba   <=50K    18-35  "
      ]
     },
     "execution_count": 454,
     "metadata": {},
     "output_type": "execute_result"
    }
   ],
   "source": [
    "df.head()"
   ]
  },
  {
   "cell_type": "code",
   "execution_count": 455,
   "id": "ec37ce33",
   "metadata": {},
   "outputs": [],
   "source": [
    "df.drop(['Age'], axis = 1,inplace=True)"
   ]
  },
  {
   "cell_type": "code",
   "execution_count": 456,
   "id": "089a3229",
   "metadata": {},
   "outputs": [
    {
     "data": {
      "text/plain": [
       "2    16462\n",
       "0    13951\n",
       "3     1156\n",
       "1      945\n",
       "Name: AgeRange, dtype: int64"
      ]
     },
     "execution_count": 456,
     "metadata": {},
     "output_type": "execute_result"
    }
   ],
   "source": [
    "lb=LabelEncoder()\n",
    "df['AgeRange']=lb.fit_transform(df['AgeRange'])\n",
    "df['AgeRange'].value_counts()"
   ]
  },
  {
   "cell_type": "markdown",
   "id": "becf30ec",
   "metadata": {},
   "source": [
    "### Column - Workclass"
   ]
  },
  {
   "cell_type": "code",
   "execution_count": 457,
   "id": "f8e270d1",
   "metadata": {},
   "outputs": [
    {
     "data": {
      "text/plain": [
       "array(['State-gov', ' Self-emp-not-inc', ' Private', ' State-gov',\n",
       "       ' Federal-gov', ' Local-gov', ' ?', ' Self-emp-inc',\n",
       "       ' Without-pay', ' Never-worked'], dtype=object)"
      ]
     },
     "execution_count": 457,
     "metadata": {},
     "output_type": "execute_result"
    }
   ],
   "source": [
    "df['Workclass'].unique()"
   ]
  },
  {
   "cell_type": "code",
   "execution_count": 458,
   "id": "d492662c",
   "metadata": {},
   "outputs": [],
   "source": [
    "df['Workclass'] = df['Workclass'].replace([' State-gov'],'State-gov')"
   ]
  },
  {
   "cell_type": "code",
   "execution_count": 459,
   "id": "0d2ad908",
   "metadata": {},
   "outputs": [],
   "source": [
    "df['Workclass'] = df['Workclass'].replace([' ?'],'private')"
   ]
  },
  {
   "cell_type": "code",
   "execution_count": 460,
   "id": "c9ad54bf",
   "metadata": {},
   "outputs": [
    {
     "data": {
      "text/plain": [
       "array(['State-gov', ' Self-emp-not-inc', ' Private', ' Federal-gov',\n",
       "       ' Local-gov', 'private', ' Self-emp-inc', ' Without-pay',\n",
       "       ' Never-worked'], dtype=object)"
      ]
     },
     "execution_count": 460,
     "metadata": {},
     "output_type": "execute_result"
    }
   ],
   "source": [
    "df['Workclass'].unique()"
   ]
  },
  {
   "cell_type": "code",
   "execution_count": 461,
   "id": "914a29c6",
   "metadata": {},
   "outputs": [
    {
     "data": {
      "text/plain": [
       "3    22651\n",
       "5     2539\n",
       "1     2093\n",
       "8     1836\n",
       "7     1298\n",
       "4     1116\n",
       "0      960\n",
       "6       14\n",
       "2        7\n",
       "Name: Workclass, dtype: int64"
      ]
     },
     "execution_count": 461,
     "metadata": {},
     "output_type": "execute_result"
    }
   ],
   "source": [
    "\n",
    "df['Workclass']=lb.fit_transform(df['Workclass'])\n",
    "df['Workclass'].value_counts()"
   ]
  },
  {
   "cell_type": "markdown",
   "id": "daf27fc0",
   "metadata": {},
   "source": [
    "### Column - Fnlwgt"
   ]
  },
  {
   "cell_type": "code",
   "execution_count": 462,
   "id": "9b216247",
   "metadata": {},
   "outputs": [
    {
     "data": {
      "text/plain": [
       "array(['77516', 83311, 215646, ..., 34066, 84661, 257302], dtype=object)"
      ]
     },
     "execution_count": 462,
     "metadata": {},
     "output_type": "execute_result"
    }
   ],
   "source": [
    "df['Fnlwgt'].unique()\n"
   ]
  },
  {
   "cell_type": "code",
   "execution_count": 463,
   "id": "9f6b3eca",
   "metadata": {},
   "outputs": [
    {
     "data": {
      "text/plain": [
       "21638"
      ]
     },
     "execution_count": 463,
     "metadata": {},
     "output_type": "execute_result"
    }
   ],
   "source": [
    "len(df['Fnlwgt'].unique())"
   ]
  },
  {
   "cell_type": "code",
   "execution_count": 464,
   "id": "cd595382",
   "metadata": {},
   "outputs": [],
   "source": [
    "df['Fnlwgt']=pd.to_numeric(df['Fnlwgt'])"
   ]
  },
  {
   "cell_type": "code",
   "execution_count": 465,
   "id": "4a5045ce",
   "metadata": {},
   "outputs": [
    {
     "data": {
      "text/plain": [
       "dtype('int64')"
      ]
     },
     "execution_count": 465,
     "metadata": {},
     "output_type": "execute_result"
    }
   ],
   "source": [
    "df['Fnlwgt'].dtype"
   ]
  },
  {
   "cell_type": "code",
   "execution_count": 466,
   "id": "22a4307a",
   "metadata": {},
   "outputs": [
    {
     "data": {
      "text/plain": [
       "8875     13\n",
       "5814     13\n",
       "13070    13\n",
       "4984     12\n",
       "5673     12\n",
       "         ..\n",
       "15210     1\n",
       "19000     1\n",
       "6999      1\n",
       "18795     1\n",
       "16521     1\n",
       "Name: Fnlwgt, Length: 21638, dtype: int64"
      ]
     },
     "execution_count": 466,
     "metadata": {},
     "output_type": "execute_result"
    }
   ],
   "source": [
    "\n",
    "df['Fnlwgt']=lb.fit_transform(df['Fnlwgt'])\n",
    "df['Fnlwgt'].value_counts()"
   ]
  },
  {
   "cell_type": "markdown",
   "id": "3f56e169",
   "metadata": {},
   "source": [
    "### Column - Education"
   ]
  },
  {
   "cell_type": "code",
   "execution_count": 467,
   "id": "80bd2c93",
   "metadata": {},
   "outputs": [
    {
     "data": {
      "text/plain": [
       "array(['Bachelors', ' Bachelors', ' HS-grad', ' 11th', ' Masters', ' 9th',\n",
       "       ' Some-college', ' Assoc-acdm', ' Assoc-voc', ' 7th-8th',\n",
       "       ' Doctorate', ' Prof-school', ' 5th-6th', ' 10th', ' 1st-4th',\n",
       "       ' Preschool', ' 12th'], dtype=object)"
      ]
     },
     "execution_count": 467,
     "metadata": {},
     "output_type": "execute_result"
    }
   ],
   "source": [
    "df['Education'].unique()"
   ]
  },
  {
   "cell_type": "code",
   "execution_count": 468,
   "id": "02fb4257",
   "metadata": {},
   "outputs": [],
   "source": [
    "df['Education'] = df['Education'].replace(['Bachelors'],' Bachelors')"
   ]
  },
  {
   "cell_type": "code",
   "execution_count": 469,
   "id": "c86d5dc7",
   "metadata": {},
   "outputs": [
    {
     "data": {
      "text/plain": [
       "array([' Bachelors', ' HS-grad', ' 11th', ' Masters', ' 9th',\n",
       "       ' Some-college', ' Assoc-acdm', ' Assoc-voc', ' 7th-8th',\n",
       "       ' Doctorate', ' Prof-school', ' 5th-6th', ' 10th', ' 1st-4th',\n",
       "       ' Preschool', ' 12th'], dtype=object)"
      ]
     },
     "execution_count": 469,
     "metadata": {},
     "output_type": "execute_result"
    }
   ],
   "source": [
    "df['Education'].unique()"
   ]
  },
  {
   "cell_type": "code",
   "execution_count": 470,
   "id": "2d34534a",
   "metadata": {},
   "outputs": [
    {
     "data": {
      "text/plain": [
       "array([' Bachelors', ' HS-grad', ' 11th', ' Masters', ' 9th',\n",
       "       ' Some-college', ' Assoc-acdm', ' Assoc-voc', ' 7th-8th',\n",
       "       ' Doctorate', ' Prof-school', ' 5th-6th', ' 10th', ' 1st-4th',\n",
       "       ' Preschool', ' 12th'], dtype=object)"
      ]
     },
     "execution_count": 470,
     "metadata": {},
     "output_type": "execute_result"
    }
   ],
   "source": [
    "df['Education'].unique()"
   ]
  },
  {
   "cell_type": "code",
   "execution_count": 471,
   "id": "ce90c4d2",
   "metadata": {},
   "outputs": [
    {
     "data": {
      "text/plain": [
       " HS-grad         10487\n",
       " Some-college     7273\n",
       " Bachelors        5351\n",
       " Masters          1721\n",
       " Assoc-voc        1382\n",
       " 11th             1175\n",
       " Assoc-acdm       1067\n",
       " 10th              933\n",
       " 7th-8th           644\n",
       " Prof-school       576\n",
       " 9th               514\n",
       " 12th              433\n",
       " Doctorate         413\n",
       " 5th-6th           331\n",
       " 1st-4th           165\n",
       " Preschool          49\n",
       "Name: Education, dtype: int64"
      ]
     },
     "execution_count": 471,
     "metadata": {},
     "output_type": "execute_result"
    }
   ],
   "source": [
    "df['Education'].value_counts()"
   ]
  },
  {
   "cell_type": "code",
   "execution_count": 472,
   "id": "92c32068",
   "metadata": {},
   "outputs": [
    {
     "data": {
      "text/plain": [
       "11    10487\n",
       "15     7273\n",
       "9      5351\n",
       "12     1721\n",
       "8      1382\n",
       "1      1175\n",
       "7      1067\n",
       "0       933\n",
       "5       644\n",
       "14      576\n",
       "6       514\n",
       "2       433\n",
       "10      413\n",
       "4       331\n",
       "3       165\n",
       "13       49\n",
       "Name: Education, dtype: int64"
      ]
     },
     "execution_count": 472,
     "metadata": {},
     "output_type": "execute_result"
    }
   ],
   "source": [
    "df['Education']=lb.fit_transform(df['Education'])\n",
    "df['Education'].value_counts()"
   ]
  },
  {
   "cell_type": "markdown",
   "id": "9a94cd86",
   "metadata": {},
   "source": [
    "### Column - Education_num"
   ]
  },
  {
   "cell_type": "code",
   "execution_count": 473,
   "id": "56c6072c",
   "metadata": {},
   "outputs": [
    {
     "data": {
      "text/plain": [
       "array([13,  9,  7, 14,  5, 10, 12, 11,  4, 16, 15,  3,  6,  2,  1,  8],\n",
       "      dtype=int64)"
      ]
     },
     "execution_count": 473,
     "metadata": {},
     "output_type": "execute_result"
    }
   ],
   "source": [
    "df['Education_num'].unique()"
   ]
  },
  {
   "cell_type": "code",
   "execution_count": 474,
   "id": "0c66b1c3",
   "metadata": {},
   "outputs": [
    {
     "data": {
      "text/plain": [
       "8     10487\n",
       "9      7273\n",
       "12     5351\n",
       "13     1721\n",
       "10     1382\n",
       "6      1175\n",
       "11     1067\n",
       "5       933\n",
       "3       644\n",
       "14      576\n",
       "4       514\n",
       "7       433\n",
       "15      413\n",
       "2       331\n",
       "1       165\n",
       "0        49\n",
       "Name: Education_num, dtype: int64"
      ]
     },
     "execution_count": 474,
     "metadata": {},
     "output_type": "execute_result"
    }
   ],
   "source": [
    "\n",
    "df['Education_num']=lb.fit_transform(df['Education_num'])\n",
    "df['Education_num'].value_counts()"
   ]
  },
  {
   "cell_type": "markdown",
   "id": "44b340b2",
   "metadata": {},
   "source": [
    "### Column - Marital_status"
   ]
  },
  {
   "cell_type": "code",
   "execution_count": 475,
   "id": "0a8750a7",
   "metadata": {},
   "outputs": [
    {
     "data": {
      "text/plain": [
       "array(['Never-married', ' Married-civ-spouse', ' Divorced',\n",
       "       ' Married-spouse-absent', ' Never-married', ' Separated',\n",
       "       ' Married-AF-spouse', ' Widowed'], dtype=object)"
      ]
     },
     "execution_count": 475,
     "metadata": {},
     "output_type": "execute_result"
    }
   ],
   "source": [
    "df['Marital_status'].unique()"
   ]
  },
  {
   "cell_type": "code",
   "execution_count": 476,
   "id": "3dfcd072",
   "metadata": {},
   "outputs": [],
   "source": [
    "df['Marital_status'] = df['Marital_status'].replace(['Never-married'],' Never-married')"
   ]
  },
  {
   "cell_type": "code",
   "execution_count": 477,
   "id": "05757d6a",
   "metadata": {},
   "outputs": [
    {
     "data": {
      "text/plain": [
       "array([' Never-married', ' Married-civ-spouse', ' Divorced',\n",
       "       ' Married-spouse-absent', ' Separated', ' Married-AF-spouse',\n",
       "       ' Widowed'], dtype=object)"
      ]
     },
     "execution_count": 477,
     "metadata": {},
     "output_type": "execute_result"
    }
   ],
   "source": [
    "df['Marital_status'].unique()"
   ]
  },
  {
   "cell_type": "code",
   "execution_count": 478,
   "id": "e24298f2",
   "metadata": {},
   "outputs": [
    {
     "data": {
      "text/plain": [
       "2    14964\n",
       "4    10652\n",
       "0     4439\n",
       "5     1025\n",
       "6      993\n",
       "3      418\n",
       "1       23\n",
       "Name: Marital_status, dtype: int64"
      ]
     },
     "execution_count": 478,
     "metadata": {},
     "output_type": "execute_result"
    }
   ],
   "source": [
    "df['Marital_status']=lb.fit_transform(df['Marital_status'])\n",
    "df['Marital_status'].value_counts()"
   ]
  },
  {
   "cell_type": "markdown",
   "id": "1859811f",
   "metadata": {},
   "source": [
    "### Column - relationship"
   ]
  },
  {
   "cell_type": "code",
   "execution_count": 479,
   "id": "19be0202",
   "metadata": {},
   "outputs": [
    {
     "data": {
      "text/plain": [
       "array(['Not-in-family', ' Husband', ' Not-in-family', ' Wife',\n",
       "       ' Own-child', ' Unmarried', ' Other-relative'], dtype=object)"
      ]
     },
     "execution_count": 479,
     "metadata": {},
     "output_type": "execute_result"
    }
   ],
   "source": [
    "df['relationship'].unique()"
   ]
  },
  {
   "cell_type": "code",
   "execution_count": 480,
   "id": "118c2382",
   "metadata": {},
   "outputs": [],
   "source": [
    "df['relationship'] = df['relationship'].replace(['Not-in-family'],' Not-in-family')"
   ]
  },
  {
   "cell_type": "code",
   "execution_count": 481,
   "id": "d8a6cb94",
   "metadata": {},
   "outputs": [
    {
     "data": {
      "text/plain": [
       "array([' Not-in-family', ' Husband', ' Wife', ' Own-child', ' Unmarried',\n",
       "       ' Other-relative'], dtype=object)"
      ]
     },
     "execution_count": 481,
     "metadata": {},
     "output_type": "execute_result"
    }
   ],
   "source": [
    "df['relationship'].unique()"
   ]
  },
  {
   "cell_type": "code",
   "execution_count": 482,
   "id": "aacb42bf",
   "metadata": {},
   "outputs": [
    {
     "data": {
      "text/plain": [
       "0    13181\n",
       "1     8280\n",
       "3     5060\n",
       "4     3444\n",
       "5     1568\n",
       "2      981\n",
       "Name: relationship, dtype: int64"
      ]
     },
     "execution_count": 482,
     "metadata": {},
     "output_type": "execute_result"
    }
   ],
   "source": [
    "df['relationship']=lb.fit_transform(df['relationship'])\n",
    "df['relationship'].value_counts()"
   ]
  },
  {
   "cell_type": "markdown",
   "id": "9942c0fb",
   "metadata": {},
   "source": [
    "### Column - race"
   ]
  },
  {
   "cell_type": "code",
   "execution_count": 483,
   "id": "eaccf82b",
   "metadata": {},
   "outputs": [
    {
     "data": {
      "text/plain": [
       "array(['White', ' White', ' Black', ' Asian-Pac-Islander',\n",
       "       ' Amer-Indian-Eskimo', ' Other'], dtype=object)"
      ]
     },
     "execution_count": 483,
     "metadata": {},
     "output_type": "execute_result"
    }
   ],
   "source": [
    "df['race'].unique()"
   ]
  },
  {
   "cell_type": "code",
   "execution_count": 484,
   "id": "57efbd13",
   "metadata": {},
   "outputs": [],
   "source": [
    "df['race'] = df['race'].replace(['White'],' White')"
   ]
  },
  {
   "cell_type": "code",
   "execution_count": 485,
   "id": "0f461fee",
   "metadata": {},
   "outputs": [
    {
     "data": {
      "text/plain": [
       "array([' White', ' Black', ' Asian-Pac-Islander', ' Amer-Indian-Eskimo',\n",
       "       ' Other'], dtype=object)"
      ]
     },
     "execution_count": 485,
     "metadata": {},
     "output_type": "execute_result"
    }
   ],
   "source": [
    "df['race'].unique()"
   ]
  },
  {
   "cell_type": "code",
   "execution_count": 486,
   "id": "21c79a57",
   "metadata": {},
   "outputs": [
    {
     "data": {
      "text/plain": [
       "4    27775\n",
       "2     3120\n",
       "1     1037\n",
       "0      311\n",
       "3      271\n",
       "Name: race, dtype: int64"
      ]
     },
     "execution_count": 486,
     "metadata": {},
     "output_type": "execute_result"
    }
   ],
   "source": [
    "df['race']=lb.fit_transform(df['race'])\n",
    "df['race'].value_counts()"
   ]
  },
  {
   "cell_type": "markdown",
   "id": "659f32f6",
   "metadata": {},
   "source": [
    "### Column - sex"
   ]
  },
  {
   "cell_type": "code",
   "execution_count": 487,
   "id": "e98c67a7",
   "metadata": {},
   "outputs": [
    {
     "data": {
      "text/plain": [
       "array(['Male', ' Male', ' Female'], dtype=object)"
      ]
     },
     "execution_count": 487,
     "metadata": {},
     "output_type": "execute_result"
    }
   ],
   "source": [
    "df['sex'].unique()"
   ]
  },
  {
   "cell_type": "code",
   "execution_count": 488,
   "id": "34542db8",
   "metadata": {},
   "outputs": [],
   "source": [
    "df['sex'] = df['sex'].replace(['Male'],' Male')"
   ]
  },
  {
   "cell_type": "code",
   "execution_count": 489,
   "id": "4c9bb63f",
   "metadata": {},
   "outputs": [
    {
     "data": {
      "text/plain": [
       "array([' Male', ' Female'], dtype=object)"
      ]
     },
     "execution_count": 489,
     "metadata": {},
     "output_type": "execute_result"
    }
   ],
   "source": [
    "df['sex'].unique()"
   ]
  },
  {
   "cell_type": "code",
   "execution_count": 490,
   "id": "b739f72f",
   "metadata": {},
   "outputs": [
    {
     "data": {
      "text/plain": [
       "1    21760\n",
       "0    10754\n",
       "Name: sex, dtype: int64"
      ]
     },
     "execution_count": 490,
     "metadata": {},
     "output_type": "execute_result"
    }
   ],
   "source": [
    "df['sex']=lb.fit_transform(df['sex'])\n",
    "df['sex'].value_counts()"
   ]
  },
  {
   "cell_type": "markdown",
   "id": "d3fd6006",
   "metadata": {},
   "source": [
    "### Column - capital_gain"
   ]
  },
  {
   "cell_type": "code",
   "execution_count": 491,
   "id": "33ad82cd",
   "metadata": {},
   "outputs": [
    {
     "data": {
      "text/plain": [
       "0        29802\n",
       "15024      347\n",
       "7688       284\n",
       "7298       246\n",
       "99999      159\n",
       "         ...  \n",
       "1111         1\n",
       "2538         1\n",
       "22040        1\n",
       "4931         1\n",
       "5060         1\n",
       "Name: capital_gain, Length: 119, dtype: int64"
      ]
     },
     "execution_count": 491,
     "metadata": {},
     "output_type": "execute_result"
    }
   ],
   "source": [
    "df['capital_gain'].value_counts()"
   ]
  },
  {
   "cell_type": "code",
   "execution_count": 492,
   "id": "6a1ae814",
   "metadata": {},
   "outputs": [
    {
     "data": {
      "text/plain": [
       "0      29802\n",
       "108      347\n",
       "94       284\n",
       "91       246\n",
       "118      159\n",
       "       ...  \n",
       "8          1\n",
       "37         1\n",
       "112        1\n",
       "75         1\n",
       "78         1\n",
       "Name: capital_gain, Length: 119, dtype: int64"
      ]
     },
     "execution_count": 492,
     "metadata": {},
     "output_type": "execute_result"
    }
   ],
   "source": [
    "df['capital_gain']=lb.fit_transform(df['capital_gain'])\n",
    "df['capital_gain'].value_counts()"
   ]
  },
  {
   "cell_type": "markdown",
   "id": "36f2fb20",
   "metadata": {},
   "source": [
    "### Column - capital_loss"
   ]
  },
  {
   "cell_type": "code",
   "execution_count": 493,
   "id": "3e1b2c24",
   "metadata": {},
   "outputs": [
    {
     "data": {
      "text/plain": [
       "0       30995\n",
       "1902      202\n",
       "1977      168\n",
       "1887      159\n",
       "1848       51\n",
       "        ...  \n",
       "2080        1\n",
       "1539        1\n",
       "1844        1\n",
       "2489        1\n",
       "1411        1\n",
       "Name: capital_loss, Length: 92, dtype: int64"
      ]
     },
     "execution_count": 493,
     "metadata": {},
     "output_type": "execute_result"
    }
   ],
   "source": [
    "df['capital_loss'].value_counts()"
   ]
  },
  {
   "cell_type": "code",
   "execution_count": 494,
   "id": "602457fd",
   "metadata": {},
   "outputs": [
    {
     "data": {
      "text/plain": [
       "0     30995\n",
       "47      202\n",
       "50      168\n",
       "46      159\n",
       "44       51\n",
       "      ...  \n",
       "57        1\n",
       "19        1\n",
       "43        1\n",
       "81        1\n",
       "16        1\n",
       "Name: capital_loss, Length: 92, dtype: int64"
      ]
     },
     "execution_count": 494,
     "metadata": {},
     "output_type": "execute_result"
    }
   ],
   "source": [
    "df['capital_loss']=lb.fit_transform(df['capital_loss'])\n",
    "df['capital_loss'].value_counts()"
   ]
  },
  {
   "cell_type": "markdown",
   "id": "e03ac68f",
   "metadata": {},
   "source": [
    "### Column - hours_per_week"
   ]
  },
  {
   "cell_type": "code",
   "execution_count": 495,
   "id": "3f2aecfc",
   "metadata": {},
   "outputs": [
    {
     "data": {
      "text/plain": [
       "0     30995\n",
       "47      202\n",
       "50      168\n",
       "46      159\n",
       "44       51\n",
       "      ...  \n",
       "57        1\n",
       "19        1\n",
       "43        1\n",
       "81        1\n",
       "16        1\n",
       "Name: capital_loss, Length: 92, dtype: int64"
      ]
     },
     "execution_count": 495,
     "metadata": {},
     "output_type": "execute_result"
    }
   ],
   "source": [
    "df['capital_loss'].value_counts()"
   ]
  },
  {
   "cell_type": "code",
   "execution_count": 496,
   "id": "f4c4fa0b",
   "metadata": {},
   "outputs": [
    {
     "data": {
      "text/plain": [
       "39    15192\n",
       "49     2815\n",
       "44     1822\n",
       "59     1475\n",
       "34     1295\n",
       "      ...  \n",
       "78        1\n",
       "87        1\n",
       "82        1\n",
       "71        1\n",
       "88        1\n",
       "Name: hours_per_week, Length: 94, dtype: int64"
      ]
     },
     "execution_count": 496,
     "metadata": {},
     "output_type": "execute_result"
    }
   ],
   "source": [
    "df['hours_per_week']=lb.fit_transform(df['hours_per_week'])\n",
    "df['hours_per_week'].value_counts()"
   ]
  },
  {
   "cell_type": "markdown",
   "id": "a27c4b8a",
   "metadata": {},
   "source": [
    "### Column - native_country"
   ]
  },
  {
   "cell_type": "code",
   "execution_count": 497,
   "id": "f19c3ecc",
   "metadata": {},
   "outputs": [
    {
     "data": {
      "text/plain": [
       "array(['United-States', ' United-States', ' Cuba', ' Jamaica', ' India',\n",
       "       ' ?', ' Mexico', ' South', ' Puerto-Rico', ' Honduras', ' England',\n",
       "       ' Canada', ' Germany', ' Iran', ' Philippines', ' Italy',\n",
       "       ' Poland', ' Columbia', ' Cambodia', ' Thailand', ' Ecuador',\n",
       "       ' Laos', ' Taiwan', ' Haiti', ' Portugal', ' Dominican-Republic',\n",
       "       ' El-Salvador', ' France', ' Guatemala', ' China', ' Japan',\n",
       "       ' Yugoslavia', ' Peru', ' Outlying-US(Guam-USVI-etc)', ' Scotland',\n",
       "       ' Trinadad&Tobago', ' Greece', ' Nicaragua', ' Vietnam', ' Hong',\n",
       "       ' Ireland', ' Hungary', ' Holand-Netherlands'], dtype=object)"
      ]
     },
     "execution_count": 497,
     "metadata": {},
     "output_type": "execute_result"
    }
   ],
   "source": [
    "df['native_country'].unique()"
   ]
  },
  {
   "cell_type": "code",
   "execution_count": 498,
   "id": "54737258",
   "metadata": {},
   "outputs": [
    {
     "data": {
      "text/plain": [
       " United-States                 29135\n",
       " Mexico                          635\n",
       " ?                               581\n",
       " Philippines                     198\n",
       " Germany                         137\n",
       " Canada                          121\n",
       " Puerto-Rico                     114\n",
       " El-Salvador                     106\n",
       " India                           100\n",
       " Cuba                             95\n",
       " England                          90\n",
       " Jamaica                          81\n",
       " South                            80\n",
       " China                            75\n",
       " Italy                            73\n",
       " Dominican-Republic               70\n",
       " Vietnam                          67\n",
       " Japan                            62\n",
       " Guatemala                        61\n",
       " Poland                           60\n",
       " Columbia                         59\n",
       " Taiwan                           51\n",
       " Haiti                            44\n",
       " Iran                             43\n",
       " Portugal                         37\n",
       " Nicaragua                        34\n",
       " Peru                             31\n",
       " Greece                           29\n",
       " France                           29\n",
       " Ecuador                          28\n",
       " Ireland                          24\n",
       " Hong                             20\n",
       " Trinadad&Tobago                  19\n",
       " Cambodia                         19\n",
       " Thailand                         18\n",
       " Laos                             18\n",
       " Yugoslavia                       16\n",
       " Outlying-US(Guam-USVI-etc)       14\n",
       " Hungary                          13\n",
       " Honduras                         13\n",
       " Scotland                         12\n",
       "United-States                      1\n",
       " Holand-Netherlands                1\n",
       "Name: native_country, dtype: int64"
      ]
     },
     "execution_count": 498,
     "metadata": {},
     "output_type": "execute_result"
    }
   ],
   "source": [
    "df['native_country'].value_counts()"
   ]
  },
  {
   "cell_type": "code",
   "execution_count": 499,
   "id": "6bbd35a7",
   "metadata": {},
   "outputs": [],
   "source": [
    "df['native_country'] = df['native_country'].replace([' ?'],' United-States')"
   ]
  },
  {
   "cell_type": "code",
   "execution_count": 500,
   "id": "3781675e",
   "metadata": {},
   "outputs": [
    {
     "data": {
      "text/plain": [
       " United-States                 29716\n",
       " Mexico                          635\n",
       " Philippines                     198\n",
       " Germany                         137\n",
       " Canada                          121\n",
       " Puerto-Rico                     114\n",
       " El-Salvador                     106\n",
       " India                           100\n",
       " Cuba                             95\n",
       " England                          90\n",
       " Jamaica                          81\n",
       " South                            80\n",
       " China                            75\n",
       " Italy                            73\n",
       " Dominican-Republic               70\n",
       " Vietnam                          67\n",
       " Japan                            62\n",
       " Guatemala                        61\n",
       " Poland                           60\n",
       " Columbia                         59\n",
       " Taiwan                           51\n",
       " Haiti                            44\n",
       " Iran                             43\n",
       " Portugal                         37\n",
       " Nicaragua                        34\n",
       " Peru                             31\n",
       " Greece                           29\n",
       " France                           29\n",
       " Ecuador                          28\n",
       " Ireland                          24\n",
       " Hong                             20\n",
       " Trinadad&Tobago                  19\n",
       " Cambodia                         19\n",
       " Thailand                         18\n",
       " Laos                             18\n",
       " Yugoslavia                       16\n",
       " Outlying-US(Guam-USVI-etc)       14\n",
       " Hungary                          13\n",
       " Honduras                         13\n",
       " Scotland                         12\n",
       "United-States                      1\n",
       " Holand-Netherlands                1\n",
       "Name: native_country, dtype: int64"
      ]
     },
     "execution_count": 500,
     "metadata": {},
     "output_type": "execute_result"
    }
   ],
   "source": [
    "df['native_country'].value_counts()"
   ]
  },
  {
   "cell_type": "code",
   "execution_count": 501,
   "id": "2cc7fa22",
   "metadata": {},
   "outputs": [
    {
     "data": {
      "text/plain": [
       "38    29716\n",
       "25      635\n",
       "29      198\n",
       "10      137\n",
       "1       121\n",
       "32      114\n",
       "7       106\n",
       "18      100\n",
       "4        95\n",
       "8        90\n",
       "22       81\n",
       "34       80\n",
       "2        75\n",
       "21       73\n",
       "5        70\n",
       "39       67\n",
       "23       62\n",
       "12       61\n",
       "30       60\n",
       "3        59\n",
       "35       51\n",
       "13       44\n",
       "19       43\n",
       "31       37\n",
       "26       34\n",
       "28       31\n",
       "11       29\n",
       "9        29\n",
       "6        28\n",
       "20       24\n",
       "16       20\n",
       "37       19\n",
       "0        19\n",
       "36       18\n",
       "24       18\n",
       "40       16\n",
       "27       14\n",
       "17       13\n",
       "15       13\n",
       "33       12\n",
       "41        1\n",
       "14        1\n",
       "Name: native_country, dtype: int64"
      ]
     },
     "execution_count": 501,
     "metadata": {},
     "output_type": "execute_result"
    }
   ],
   "source": [
    "df['native_country']=lb.fit_transform(df['native_country'])\n",
    "df['native_country'].value_counts()"
   ]
  },
  {
   "cell_type": "markdown",
   "id": "0593adff",
   "metadata": {},
   "source": [
    "### Column - income"
   ]
  },
  {
   "cell_type": "code",
   "execution_count": 502,
   "id": "c5a229bb",
   "metadata": {},
   "outputs": [
    {
     "data": {
      "text/plain": [
       " <=50K    24676\n",
       " >50K      7837\n",
       "<=50K         1\n",
       "Name: income, dtype: int64"
      ]
     },
     "execution_count": 502,
     "metadata": {},
     "output_type": "execute_result"
    }
   ],
   "source": [
    "df['income'].value_counts()"
   ]
  },
  {
   "cell_type": "code",
   "execution_count": 503,
   "id": "6e06e49a",
   "metadata": {},
   "outputs": [],
   "source": [
    "df['income'] = df['income'].replace(['<=50K'],' <=50K')"
   ]
  },
  {
   "cell_type": "code",
   "execution_count": 504,
   "id": "0d5b9128",
   "metadata": {},
   "outputs": [
    {
     "data": {
      "text/plain": [
       " <=50K    24677\n",
       " >50K      7837\n",
       "Name: income, dtype: int64"
      ]
     },
     "execution_count": 504,
     "metadata": {},
     "output_type": "execute_result"
    }
   ],
   "source": [
    "df['income'].value_counts()"
   ]
  },
  {
   "cell_type": "code",
   "execution_count": 505,
   "id": "e131e008",
   "metadata": {},
   "outputs": [
    {
     "data": {
      "text/plain": [
       "0    24677\n",
       "1     7837\n",
       "Name: income, dtype: int64"
      ]
     },
     "execution_count": 505,
     "metadata": {},
     "output_type": "execute_result"
    }
   ],
   "source": [
    "df['income']=lb.fit_transform(df['income'])\n",
    "df['income'].value_counts()"
   ]
  },
  {
   "cell_type": "markdown",
   "id": "514dfc63",
   "metadata": {},
   "source": [
    "### n"
   ]
  },
  {
   "cell_type": "markdown",
   "id": "188d8477",
   "metadata": {},
   "source": [
    "### Column - Occupation"
   ]
  },
  {
   "cell_type": "code",
   "execution_count": 506,
   "id": "8b896a6a",
   "metadata": {},
   "outputs": [
    {
     "data": {
      "text/plain": [
       "array(['Adm-clerical', ' Exec-managerial', ' Handlers-cleaners',\n",
       "       ' Prof-specialty', ' Other-service', ' Adm-clerical', ' Sales',\n",
       "       ' Craft-repair', ' Transport-moving', ' Farming-fishing',\n",
       "       ' Machine-op-inspct', ' Tech-support', ' ?', ' Protective-serv',\n",
       "       ' Armed-Forces', ' Priv-house-serv'], dtype=object)"
      ]
     },
     "execution_count": 506,
     "metadata": {},
     "output_type": "execute_result"
    }
   ],
   "source": [
    "df['Occupation'].unique()"
   ]
  },
  {
   "cell_type": "code",
   "execution_count": 507,
   "id": "9e3ad54b",
   "metadata": {},
   "outputs": [],
   "source": [
    "df['Occupation'] = df['Occupation'].replace(['Adm-clerical'],' Adm-clerical')"
   ]
  },
  {
   "cell_type": "code",
   "execution_count": 508,
   "id": "458de406",
   "metadata": {},
   "outputs": [
    {
     "data": {
      "text/plain": [
       " Prof-specialty       4132\n",
       " Craft-repair         4089\n",
       " Exec-managerial      4064\n",
       " Adm-clerical         3766\n",
       " Sales                3650\n",
       " Other-service        3287\n",
       " Machine-op-inspct    1998\n",
       " ?                    1843\n",
       " Transport-moving     1597\n",
       " Handlers-cleaners    1368\n",
       " Farming-fishing       990\n",
       " Tech-support          926\n",
       " Protective-serv       649\n",
       " Priv-house-serv       146\n",
       " Armed-Forces            9\n",
       "Name: Occupation, dtype: int64"
      ]
     },
     "execution_count": 508,
     "metadata": {},
     "output_type": "execute_result"
    }
   ],
   "source": [
    "df['Occupation'].value_counts()"
   ]
  },
  {
   "cell_type": "code",
   "execution_count": null,
   "id": "c2bc4b43",
   "metadata": {},
   "outputs": [],
   "source": []
  },
  {
   "cell_type": "code",
   "execution_count": 509,
   "id": "bef89ab8",
   "metadata": {},
   "outputs": [],
   "source": [
    "df1=df.loc[df['Occupation'] == ' ?']\n",
    "df2=df.loc[df['Occupation'] != ' ?']"
   ]
  },
  {
   "cell_type": "code",
   "execution_count": 510,
   "id": "bc354026",
   "metadata": {},
   "outputs": [
    {
     "data": {
      "text/plain": [
       "(1843, 15)"
      ]
     },
     "execution_count": 510,
     "metadata": {},
     "output_type": "execute_result"
    }
   ],
   "source": [
    "df1.shape"
   ]
  },
  {
   "cell_type": "code",
   "execution_count": 511,
   "id": "0521c3c3",
   "metadata": {},
   "outputs": [
    {
     "data": {
      "text/plain": [
       "(30671, 15)"
      ]
     },
     "execution_count": 511,
     "metadata": {},
     "output_type": "execute_result"
    }
   ],
   "source": [
    "df2.shape"
   ]
  },
  {
   "cell_type": "code",
   "execution_count": 531,
   "id": "13f14346",
   "metadata": {},
   "outputs": [
    {
     "name": "stderr",
     "output_type": "stream",
     "text": [
      "C:\\Users\\heman\\AppData\\Local\\Temp/ipykernel_24244/1366951021.py:1: SettingWithCopyWarning: \n",
      "A value is trying to be set on a copy of a slice from a DataFrame.\n",
      "Try using .loc[row_indexer,col_indexer] = value instead\n",
      "\n",
      "See the caveats in the documentation: https://pandas.pydata.org/pandas-docs/stable/user_guide/indexing.html#returning-a-view-versus-a-copy\n",
      "  df1['Occupation']=lb.fit_transform(df1['Occupation'])\n"
     ]
    },
    {
     "data": {
      "text/plain": [
       "0    1843\n",
       "Name: Occupation, dtype: int64"
      ]
     },
     "execution_count": 531,
     "metadata": {},
     "output_type": "execute_result"
    }
   ],
   "source": [
    "df1['Occupation']=lb.fit_transform(df1['Occupation'])\n",
    "df1['Occupation'].value_counts()"
   ]
  },
  {
   "cell_type": "code",
   "execution_count": 532,
   "id": "e8f740f0",
   "metadata": {},
   "outputs": [
    {
     "name": "stderr",
     "output_type": "stream",
     "text": [
      "C:\\Users\\heman\\AppData\\Local\\Temp/ipykernel_24244/213460150.py:1: SettingWithCopyWarning: \n",
      "A value is trying to be set on a copy of a slice from a DataFrame.\n",
      "Try using .loc[row_indexer,col_indexer] = value instead\n",
      "\n",
      "See the caveats in the documentation: https://pandas.pydata.org/pandas-docs/stable/user_guide/indexing.html#returning-a-view-versus-a-copy\n",
      "  df2['Occupation']=lb.fit_transform(df2['Occupation'])\n"
     ]
    },
    {
     "data": {
      "text/plain": [
       "9     4132\n",
       "2     4089\n",
       "3     4064\n",
       "0     3766\n",
       "11    3650\n",
       "7     3287\n",
       "6     1998\n",
       "13    1597\n",
       "5     1368\n",
       "4      990\n",
       "12     926\n",
       "10     649\n",
       "8      146\n",
       "1        9\n",
       "Name: Occupation, dtype: int64"
      ]
     },
     "execution_count": 532,
     "metadata": {},
     "output_type": "execute_result"
    }
   ],
   "source": [
    "df2['Occupation']=lb.fit_transform(df2['Occupation'])\n",
    "df2['Occupation'].value_counts()"
   ]
  },
  {
   "cell_type": "code",
   "execution_count": 533,
   "id": "c403a4f6",
   "metadata": {},
   "outputs": [
    {
     "data": {
      "text/plain": [
       "Index(['Workclass', 'Fnlwgt', 'Education', 'Education_num', 'Marital_status',\n",
       "       'Occupation', 'relationship', 'race', 'sex', 'capital_gain',\n",
       "       'capital_loss', 'hours_per_week', 'native_country', 'income',\n",
       "       'AgeRange'],\n",
       "      dtype='object')"
      ]
     },
     "execution_count": 533,
     "metadata": {},
     "output_type": "execute_result"
    }
   ],
   "source": [
    "df1.columns"
   ]
  },
  {
   "cell_type": "code",
   "execution_count": 534,
   "id": "63462d0c",
   "metadata": {},
   "outputs": [],
   "source": [
    "df1x= df1.drop('Occupation',axis=1)"
   ]
  },
  {
   "cell_type": "code",
   "execution_count": 535,
   "id": "15791ebc",
   "metadata": {},
   "outputs": [
    {
     "data": {
      "text/plain": [
       "(1843, 14)"
      ]
     },
     "execution_count": 535,
     "metadata": {},
     "output_type": "execute_result"
    }
   ],
   "source": [
    "df1x.shape"
   ]
  },
  {
   "cell_type": "code",
   "execution_count": 536,
   "id": "50b6a071",
   "metadata": {},
   "outputs": [],
   "source": [
    "df1y= df1.iloc[:,5]"
   ]
  },
  {
   "cell_type": "code",
   "execution_count": 544,
   "id": "44865660",
   "metadata": {},
   "outputs": [
    {
     "data": {
      "text/plain": [
       "27       0\n",
       "61       0\n",
       "69       0\n",
       "77       0\n",
       "106      0\n",
       "        ..\n",
       "32483    0\n",
       "32484    0\n",
       "32492    0\n",
       "32494    0\n",
       "32495    0\n",
       "Name: Occupation, Length: 1843, dtype: int32"
      ]
     },
     "execution_count": 544,
     "metadata": {},
     "output_type": "execute_result"
    }
   ],
   "source": [
    "df1y"
   ]
  },
  {
   "cell_type": "code",
   "execution_count": 538,
   "id": "76d854a9",
   "metadata": {},
   "outputs": [],
   "source": [
    "df2x= df2.drop('Occupation',axis=1)"
   ]
  },
  {
   "cell_type": "code",
   "execution_count": 539,
   "id": "aa6a4325",
   "metadata": {},
   "outputs": [
    {
     "data": {
      "text/plain": [
       "(30671, 14)"
      ]
     },
     "execution_count": 539,
     "metadata": {},
     "output_type": "execute_result"
    }
   ],
   "source": [
    "df2x.shape"
   ]
  },
  {
   "cell_type": "code",
   "execution_count": 540,
   "id": "a6b49a67",
   "metadata": {},
   "outputs": [],
   "source": [
    "df2y= df2.iloc[:,5]"
   ]
  },
  {
   "cell_type": "code",
   "execution_count": 547,
   "id": "462cf610",
   "metadata": {},
   "outputs": [
    {
     "data": {
      "text/plain": [
       "0         0\n",
       "1         3\n",
       "2         5\n",
       "3         5\n",
       "4         9\n",
       "         ..\n",
       "32509    12\n",
       "32510     6\n",
       "32511     0\n",
       "32512     0\n",
       "32513     3\n",
       "Name: Occupation, Length: 30671, dtype: int32"
      ]
     },
     "execution_count": 547,
     "metadata": {},
     "output_type": "execute_result"
    }
   ],
   "source": [
    "df2y"
   ]
  },
  {
   "cell_type": "code",
   "execution_count": 542,
   "id": "4bb87c54",
   "metadata": {},
   "outputs": [
    {
     "data": {
      "text/plain": [
       "Index(['Workclass', 'Fnlwgt', 'Education', 'Education_num', 'Marital_status',\n",
       "       'relationship', 'race', 'sex', 'capital_gain', 'capital_loss',\n",
       "       'hours_per_week', 'native_country', 'income', 'AgeRange'],\n",
       "      dtype='object')"
      ]
     },
     "execution_count": 542,
     "metadata": {},
     "output_type": "execute_result"
    }
   ],
   "source": [
    "df2x.columns"
   ]
  },
  {
   "cell_type": "code",
   "execution_count": 543,
   "id": "e021084c",
   "metadata": {},
   "outputs": [
    {
     "data": {
      "text/plain": [
       "0         0\n",
       "1         3\n",
       "2         5\n",
       "3         5\n",
       "4         9\n",
       "         ..\n",
       "32509    12\n",
       "32510     6\n",
       "32511     0\n",
       "32512     0\n",
       "32513     3\n",
       "Name: Occupation, Length: 30671, dtype: int32"
      ]
     },
     "execution_count": 543,
     "metadata": {},
     "output_type": "execute_result"
    }
   ],
   "source": [
    "df2y"
   ]
  },
  {
   "cell_type": "code",
   "execution_count": 545,
   "id": "8dea761e",
   "metadata": {},
   "outputs": [],
   "source": [
    "from sklearn.ensemble import RandomForestClassifier"
   ]
  },
  {
   "cell_type": "code",
   "execution_count": 546,
   "id": "b9c19914",
   "metadata": {},
   "outputs": [
    {
     "data": {
      "text/plain": [
       "RandomForestClassifier()"
      ]
     },
     "execution_count": 546,
     "metadata": {},
     "output_type": "execute_result"
    }
   ],
   "source": [
    "m= RandomForestClassifier()\n",
    "m.fit(df2x,df2y)"
   ]
  },
  {
   "cell_type": "code",
   "execution_count": 548,
   "id": "a8423abd",
   "metadata": {},
   "outputs": [
    {
     "name": "stdout",
     "output_type": "stream",
     "text": [
      "training Score 0.9957940725767012\n",
      "[10  2  9 ...  9  7 10]\n"
     ]
    }
   ],
   "source": [
    "print('training Score',m.score(df2x,df2y))\n",
    "df1y=m.predict(df1x)\n",
    "print(df1y)"
   ]
  },
  {
   "cell_type": "code",
   "execution_count": 550,
   "id": "009c5f83",
   "metadata": {},
   "outputs": [
    {
     "data": {
      "text/plain": [
       "(array([ 0,  2,  3,  4,  5,  6,  7,  9, 10, 11, 12, 13]),\n",
       " array([457, 119, 137, 101,  15,  21, 440, 312,  98,  36,  30,  77],\n",
       "       dtype=int64))"
      ]
     },
     "execution_count": 550,
     "metadata": {},
     "output_type": "execute_result"
    }
   ],
   "source": [
    "np.unique(df1y, return_counts=True)"
   ]
  },
  {
   "cell_type": "code",
   "execution_count": 551,
   "id": "676b66d8",
   "metadata": {},
   "outputs": [
    {
     "data": {
      "text/plain": [
       "(1843, 14)"
      ]
     },
     "execution_count": 551,
     "metadata": {},
     "output_type": "execute_result"
    }
   ],
   "source": [
    "df1x.shape"
   ]
  },
  {
   "cell_type": "code",
   "execution_count": 552,
   "id": "d5e77a04",
   "metadata": {},
   "outputs": [
    {
     "data": {
      "text/plain": [
       "(1843,)"
      ]
     },
     "execution_count": 552,
     "metadata": {},
     "output_type": "execute_result"
    }
   ],
   "source": [
    "df1y.shape"
   ]
  },
  {
   "cell_type": "code",
   "execution_count": 553,
   "id": "f62a8c40",
   "metadata": {},
   "outputs": [
    {
     "data": {
      "text/plain": [
       "(30671, 14)"
      ]
     },
     "execution_count": 553,
     "metadata": {},
     "output_type": "execute_result"
    }
   ],
   "source": [
    "df2x.shape"
   ]
  },
  {
   "cell_type": "code",
   "execution_count": 554,
   "id": "b5ad78a8",
   "metadata": {},
   "outputs": [
    {
     "data": {
      "text/plain": [
       "(30671,)"
      ]
     },
     "execution_count": 554,
     "metadata": {},
     "output_type": "execute_result"
    }
   ],
   "source": [
    "df2y.shape"
   ]
  },
  {
   "cell_type": "code",
   "execution_count": 555,
   "id": "e46de6b1",
   "metadata": {},
   "outputs": [],
   "source": [
    "df1x['Occupation']=df1y"
   ]
  },
  {
   "cell_type": "code",
   "execution_count": 556,
   "id": "d5f85692",
   "metadata": {},
   "outputs": [
    {
     "data": {
      "text/html": [
       "<div>\n",
       "<style scoped>\n",
       "    .dataframe tbody tr th:only-of-type {\n",
       "        vertical-align: middle;\n",
       "    }\n",
       "\n",
       "    .dataframe tbody tr th {\n",
       "        vertical-align: top;\n",
       "    }\n",
       "\n",
       "    .dataframe thead th {\n",
       "        text-align: right;\n",
       "    }\n",
       "</style>\n",
       "<table border=\"1\" class=\"dataframe\">\n",
       "  <thead>\n",
       "    <tr style=\"text-align: right;\">\n",
       "      <th></th>\n",
       "      <th>Workclass</th>\n",
       "      <th>Fnlwgt</th>\n",
       "      <th>Education</th>\n",
       "      <th>Education_num</th>\n",
       "      <th>Marital_status</th>\n",
       "      <th>relationship</th>\n",
       "      <th>race</th>\n",
       "      <th>sex</th>\n",
       "      <th>capital_gain</th>\n",
       "      <th>capital_loss</th>\n",
       "      <th>hours_per_week</th>\n",
       "      <th>native_country</th>\n",
       "      <th>income</th>\n",
       "      <th>AgeRange</th>\n",
       "      <th>Occupation</th>\n",
       "    </tr>\n",
       "  </thead>\n",
       "  <tbody>\n",
       "    <tr>\n",
       "      <th>27</th>\n",
       "      <td>8</td>\n",
       "      <td>10520</td>\n",
       "      <td>15</td>\n",
       "      <td>9</td>\n",
       "      <td>2</td>\n",
       "      <td>0</td>\n",
       "      <td>1</td>\n",
       "      <td>1</td>\n",
       "      <td>0</td>\n",
       "      <td>0</td>\n",
       "      <td>59</td>\n",
       "      <td>34</td>\n",
       "      <td>1</td>\n",
       "      <td>2</td>\n",
       "      <td>10</td>\n",
       "    </tr>\n",
       "    <tr>\n",
       "      <th>61</th>\n",
       "      <td>8</td>\n",
       "      <td>18032</td>\n",
       "      <td>5</td>\n",
       "      <td>3</td>\n",
       "      <td>3</td>\n",
       "      <td>1</td>\n",
       "      <td>4</td>\n",
       "      <td>1</td>\n",
       "      <td>0</td>\n",
       "      <td>0</td>\n",
       "      <td>39</td>\n",
       "      <td>38</td>\n",
       "      <td>0</td>\n",
       "      <td>0</td>\n",
       "      <td>2</td>\n",
       "    </tr>\n",
       "    <tr>\n",
       "      <th>69</th>\n",
       "      <td>8</td>\n",
       "      <td>12801</td>\n",
       "      <td>15</td>\n",
       "      <td>9</td>\n",
       "      <td>4</td>\n",
       "      <td>3</td>\n",
       "      <td>4</td>\n",
       "      <td>1</td>\n",
       "      <td>0</td>\n",
       "      <td>0</td>\n",
       "      <td>39</td>\n",
       "      <td>38</td>\n",
       "      <td>0</td>\n",
       "      <td>0</td>\n",
       "      <td>9</td>\n",
       "    </tr>\n",
       "    <tr>\n",
       "      <th>77</th>\n",
       "      <td>8</td>\n",
       "      <td>13861</td>\n",
       "      <td>0</td>\n",
       "      <td>5</td>\n",
       "      <td>2</td>\n",
       "      <td>0</td>\n",
       "      <td>4</td>\n",
       "      <td>1</td>\n",
       "      <td>0</td>\n",
       "      <td>0</td>\n",
       "      <td>1</td>\n",
       "      <td>38</td>\n",
       "      <td>0</td>\n",
       "      <td>3</td>\n",
       "      <td>2</td>\n",
       "    </tr>\n",
       "    <tr>\n",
       "      <th>106</th>\n",
       "      <td>8</td>\n",
       "      <td>18385</td>\n",
       "      <td>0</td>\n",
       "      <td>5</td>\n",
       "      <td>4</td>\n",
       "      <td>3</td>\n",
       "      <td>4</td>\n",
       "      <td>0</td>\n",
       "      <td>116</td>\n",
       "      <td>0</td>\n",
       "      <td>31</td>\n",
       "      <td>38</td>\n",
       "      <td>0</td>\n",
       "      <td>1</td>\n",
       "      <td>7</td>\n",
       "    </tr>\n",
       "  </tbody>\n",
       "</table>\n",
       "</div>"
      ],
      "text/plain": [
       "     Workclass  Fnlwgt  Education  Education_num  Marital_status  \\\n",
       "27           8   10520         15              9               2   \n",
       "61           8   18032          5              3               3   \n",
       "69           8   12801         15              9               4   \n",
       "77           8   13861          0              5               2   \n",
       "106          8   18385          0              5               4   \n",
       "\n",
       "     relationship  race  sex  capital_gain  capital_loss  hours_per_week  \\\n",
       "27              0     1    1             0             0              59   \n",
       "61              1     4    1             0             0              39   \n",
       "69              3     4    1             0             0              39   \n",
       "77              0     4    1             0             0               1   \n",
       "106             3     4    0           116             0              31   \n",
       "\n",
       "     native_country  income  AgeRange  Occupation  \n",
       "27               34       1         2          10  \n",
       "61               38       0         0           2  \n",
       "69               38       0         0           9  \n",
       "77               38       0         3           2  \n",
       "106              38       0         1           7  "
      ]
     },
     "execution_count": 556,
     "metadata": {},
     "output_type": "execute_result"
    }
   ],
   "source": [
    "df1x.head()"
   ]
  },
  {
   "cell_type": "code",
   "execution_count": 557,
   "id": "c20f4a05",
   "metadata": {},
   "outputs": [],
   "source": [
    "df2x['Occupation']=df2y"
   ]
  },
  {
   "cell_type": "code",
   "execution_count": 558,
   "id": "0e924a7d",
   "metadata": {},
   "outputs": [
    {
     "data": {
      "text/html": [
       "<div>\n",
       "<style scoped>\n",
       "    .dataframe tbody tr th:only-of-type {\n",
       "        vertical-align: middle;\n",
       "    }\n",
       "\n",
       "    .dataframe tbody tr th {\n",
       "        vertical-align: top;\n",
       "    }\n",
       "\n",
       "    .dataframe thead th {\n",
       "        text-align: right;\n",
       "    }\n",
       "</style>\n",
       "<table border=\"1\" class=\"dataframe\">\n",
       "  <thead>\n",
       "    <tr style=\"text-align: right;\">\n",
       "      <th></th>\n",
       "      <th>Workclass</th>\n",
       "      <th>Fnlwgt</th>\n",
       "      <th>Education</th>\n",
       "      <th>Education_num</th>\n",
       "      <th>Marital_status</th>\n",
       "      <th>relationship</th>\n",
       "      <th>race</th>\n",
       "      <th>sex</th>\n",
       "      <th>capital_gain</th>\n",
       "      <th>capital_loss</th>\n",
       "      <th>hours_per_week</th>\n",
       "      <th>native_country</th>\n",
       "      <th>income</th>\n",
       "      <th>AgeRange</th>\n",
       "      <th>Occupation</th>\n",
       "    </tr>\n",
       "  </thead>\n",
       "  <tbody>\n",
       "    <tr>\n",
       "      <th>0</th>\n",
       "      <td>7</td>\n",
       "      <td>2671</td>\n",
       "      <td>9</td>\n",
       "      <td>12</td>\n",
       "      <td>4</td>\n",
       "      <td>1</td>\n",
       "      <td>4</td>\n",
       "      <td>1</td>\n",
       "      <td>25</td>\n",
       "      <td>0</td>\n",
       "      <td>39</td>\n",
       "      <td>41</td>\n",
       "      <td>0</td>\n",
       "      <td>2</td>\n",
       "      <td>0</td>\n",
       "    </tr>\n",
       "    <tr>\n",
       "      <th>1</th>\n",
       "      <td>5</td>\n",
       "      <td>2926</td>\n",
       "      <td>9</td>\n",
       "      <td>12</td>\n",
       "      <td>2</td>\n",
       "      <td>0</td>\n",
       "      <td>4</td>\n",
       "      <td>1</td>\n",
       "      <td>0</td>\n",
       "      <td>0</td>\n",
       "      <td>12</td>\n",
       "      <td>38</td>\n",
       "      <td>0</td>\n",
       "      <td>2</td>\n",
       "      <td>3</td>\n",
       "    </tr>\n",
       "    <tr>\n",
       "      <th>2</th>\n",
       "      <td>3</td>\n",
       "      <td>14082</td>\n",
       "      <td>11</td>\n",
       "      <td>8</td>\n",
       "      <td>0</td>\n",
       "      <td>1</td>\n",
       "      <td>4</td>\n",
       "      <td>1</td>\n",
       "      <td>0</td>\n",
       "      <td>0</td>\n",
       "      <td>39</td>\n",
       "      <td>38</td>\n",
       "      <td>0</td>\n",
       "      <td>2</td>\n",
       "      <td>5</td>\n",
       "    </tr>\n",
       "    <tr>\n",
       "      <th>3</th>\n",
       "      <td>3</td>\n",
       "      <td>15332</td>\n",
       "      <td>1</td>\n",
       "      <td>6</td>\n",
       "      <td>2</td>\n",
       "      <td>0</td>\n",
       "      <td>2</td>\n",
       "      <td>1</td>\n",
       "      <td>0</td>\n",
       "      <td>0</td>\n",
       "      <td>39</td>\n",
       "      <td>38</td>\n",
       "      <td>0</td>\n",
       "      <td>2</td>\n",
       "      <td>5</td>\n",
       "    </tr>\n",
       "    <tr>\n",
       "      <th>4</th>\n",
       "      <td>3</td>\n",
       "      <td>19346</td>\n",
       "      <td>9</td>\n",
       "      <td>12</td>\n",
       "      <td>2</td>\n",
       "      <td>5</td>\n",
       "      <td>2</td>\n",
       "      <td>0</td>\n",
       "      <td>0</td>\n",
       "      <td>0</td>\n",
       "      <td>39</td>\n",
       "      <td>4</td>\n",
       "      <td>0</td>\n",
       "      <td>0</td>\n",
       "      <td>9</td>\n",
       "    </tr>\n",
       "  </tbody>\n",
       "</table>\n",
       "</div>"
      ],
      "text/plain": [
       "   Workclass  Fnlwgt  Education  Education_num  Marital_status  relationship  \\\n",
       "0          7    2671          9             12               4             1   \n",
       "1          5    2926          9             12               2             0   \n",
       "2          3   14082         11              8               0             1   \n",
       "3          3   15332          1              6               2             0   \n",
       "4          3   19346          9             12               2             5   \n",
       "\n",
       "   race  sex  capital_gain  capital_loss  hours_per_week  native_country  \\\n",
       "0     4    1            25             0              39              41   \n",
       "1     4    1             0             0              12              38   \n",
       "2     4    1             0             0              39              38   \n",
       "3     2    1             0             0              39              38   \n",
       "4     2    0             0             0              39               4   \n",
       "\n",
       "   income  AgeRange  Occupation  \n",
       "0       0         2           0  \n",
       "1       0         2           3  \n",
       "2       0         2           5  \n",
       "3       0         2           5  \n",
       "4       0         0           9  "
      ]
     },
     "execution_count": 558,
     "metadata": {},
     "output_type": "execute_result"
    }
   ],
   "source": [
    "df2x.head()"
   ]
  },
  {
   "cell_type": "code",
   "execution_count": 560,
   "id": "088601de",
   "metadata": {},
   "outputs": [
    {
     "data": {
      "text/html": [
       "<div>\n",
       "<style scoped>\n",
       "    .dataframe tbody tr th:only-of-type {\n",
       "        vertical-align: middle;\n",
       "    }\n",
       "\n",
       "    .dataframe tbody tr th {\n",
       "        vertical-align: top;\n",
       "    }\n",
       "\n",
       "    .dataframe thead th {\n",
       "        text-align: right;\n",
       "    }\n",
       "</style>\n",
       "<table border=\"1\" class=\"dataframe\">\n",
       "  <thead>\n",
       "    <tr style=\"text-align: right;\">\n",
       "      <th></th>\n",
       "      <th>Workclass</th>\n",
       "      <th>Fnlwgt</th>\n",
       "      <th>Education</th>\n",
       "      <th>Education_num</th>\n",
       "      <th>Marital_status</th>\n",
       "      <th>relationship</th>\n",
       "      <th>race</th>\n",
       "      <th>sex</th>\n",
       "      <th>capital_gain</th>\n",
       "      <th>capital_loss</th>\n",
       "      <th>hours_per_week</th>\n",
       "      <th>native_country</th>\n",
       "      <th>income</th>\n",
       "      <th>AgeRange</th>\n",
       "      <th>Occupation</th>\n",
       "    </tr>\n",
       "  </thead>\n",
       "  <tbody>\n",
       "    <tr>\n",
       "      <th>27</th>\n",
       "      <td>8</td>\n",
       "      <td>10520</td>\n",
       "      <td>15</td>\n",
       "      <td>9</td>\n",
       "      <td>2</td>\n",
       "      <td>0</td>\n",
       "      <td>1</td>\n",
       "      <td>1</td>\n",
       "      <td>0</td>\n",
       "      <td>0</td>\n",
       "      <td>59</td>\n",
       "      <td>34</td>\n",
       "      <td>1</td>\n",
       "      <td>2</td>\n",
       "      <td>10</td>\n",
       "    </tr>\n",
       "    <tr>\n",
       "      <th>61</th>\n",
       "      <td>8</td>\n",
       "      <td>18032</td>\n",
       "      <td>5</td>\n",
       "      <td>3</td>\n",
       "      <td>3</td>\n",
       "      <td>1</td>\n",
       "      <td>4</td>\n",
       "      <td>1</td>\n",
       "      <td>0</td>\n",
       "      <td>0</td>\n",
       "      <td>39</td>\n",
       "      <td>38</td>\n",
       "      <td>0</td>\n",
       "      <td>0</td>\n",
       "      <td>2</td>\n",
       "    </tr>\n",
       "    <tr>\n",
       "      <th>69</th>\n",
       "      <td>8</td>\n",
       "      <td>12801</td>\n",
       "      <td>15</td>\n",
       "      <td>9</td>\n",
       "      <td>4</td>\n",
       "      <td>3</td>\n",
       "      <td>4</td>\n",
       "      <td>1</td>\n",
       "      <td>0</td>\n",
       "      <td>0</td>\n",
       "      <td>39</td>\n",
       "      <td>38</td>\n",
       "      <td>0</td>\n",
       "      <td>0</td>\n",
       "      <td>9</td>\n",
       "    </tr>\n",
       "    <tr>\n",
       "      <th>77</th>\n",
       "      <td>8</td>\n",
       "      <td>13861</td>\n",
       "      <td>0</td>\n",
       "      <td>5</td>\n",
       "      <td>2</td>\n",
       "      <td>0</td>\n",
       "      <td>4</td>\n",
       "      <td>1</td>\n",
       "      <td>0</td>\n",
       "      <td>0</td>\n",
       "      <td>1</td>\n",
       "      <td>38</td>\n",
       "      <td>0</td>\n",
       "      <td>3</td>\n",
       "      <td>2</td>\n",
       "    </tr>\n",
       "    <tr>\n",
       "      <th>106</th>\n",
       "      <td>8</td>\n",
       "      <td>18385</td>\n",
       "      <td>0</td>\n",
       "      <td>5</td>\n",
       "      <td>4</td>\n",
       "      <td>3</td>\n",
       "      <td>4</td>\n",
       "      <td>0</td>\n",
       "      <td>116</td>\n",
       "      <td>0</td>\n",
       "      <td>31</td>\n",
       "      <td>38</td>\n",
       "      <td>0</td>\n",
       "      <td>1</td>\n",
       "      <td>7</td>\n",
       "    </tr>\n",
       "  </tbody>\n",
       "</table>\n",
       "</div>"
      ],
      "text/plain": [
       "     Workclass  Fnlwgt  Education  Education_num  Marital_status  \\\n",
       "27           8   10520         15              9               2   \n",
       "61           8   18032          5              3               3   \n",
       "69           8   12801         15              9               4   \n",
       "77           8   13861          0              5               2   \n",
       "106          8   18385          0              5               4   \n",
       "\n",
       "     relationship  race  sex  capital_gain  capital_loss  hours_per_week  \\\n",
       "27              0     1    1             0             0              59   \n",
       "61              1     4    1             0             0              39   \n",
       "69              3     4    1             0             0              39   \n",
       "77              0     4    1             0             0               1   \n",
       "106             3     4    0           116             0              31   \n",
       "\n",
       "     native_country  income  AgeRange  Occupation  \n",
       "27               34       1         2          10  \n",
       "61               38       0         0           2  \n",
       "69               38       0         0           9  \n",
       "77               38       0         3           2  \n",
       "106              38       0         1           7  "
      ]
     },
     "execution_count": 560,
     "metadata": {},
     "output_type": "execute_result"
    }
   ],
   "source": [
    "df1x.head()"
   ]
  },
  {
   "cell_type": "code",
   "execution_count": 566,
   "id": "7f7a925c",
   "metadata": {},
   "outputs": [],
   "source": [
    "df_final=df2x.append(df1x)"
   ]
  },
  {
   "cell_type": "code",
   "execution_count": 567,
   "id": "74091dd4",
   "metadata": {},
   "outputs": [
    {
     "data": {
      "text/html": [
       "<div>\n",
       "<style scoped>\n",
       "    .dataframe tbody tr th:only-of-type {\n",
       "        vertical-align: middle;\n",
       "    }\n",
       "\n",
       "    .dataframe tbody tr th {\n",
       "        vertical-align: top;\n",
       "    }\n",
       "\n",
       "    .dataframe thead th {\n",
       "        text-align: right;\n",
       "    }\n",
       "</style>\n",
       "<table border=\"1\" class=\"dataframe\">\n",
       "  <thead>\n",
       "    <tr style=\"text-align: right;\">\n",
       "      <th></th>\n",
       "      <th>Workclass</th>\n",
       "      <th>Fnlwgt</th>\n",
       "      <th>Education</th>\n",
       "      <th>Education_num</th>\n",
       "      <th>Marital_status</th>\n",
       "      <th>relationship</th>\n",
       "      <th>race</th>\n",
       "      <th>sex</th>\n",
       "      <th>capital_gain</th>\n",
       "      <th>capital_loss</th>\n",
       "      <th>hours_per_week</th>\n",
       "      <th>native_country</th>\n",
       "      <th>income</th>\n",
       "      <th>AgeRange</th>\n",
       "      <th>Occupation</th>\n",
       "    </tr>\n",
       "  </thead>\n",
       "  <tbody>\n",
       "    <tr>\n",
       "      <th>0</th>\n",
       "      <td>7</td>\n",
       "      <td>2671</td>\n",
       "      <td>9</td>\n",
       "      <td>12</td>\n",
       "      <td>4</td>\n",
       "      <td>1</td>\n",
       "      <td>4</td>\n",
       "      <td>1</td>\n",
       "      <td>25</td>\n",
       "      <td>0</td>\n",
       "      <td>39</td>\n",
       "      <td>41</td>\n",
       "      <td>0</td>\n",
       "      <td>2</td>\n",
       "      <td>0</td>\n",
       "    </tr>\n",
       "    <tr>\n",
       "      <th>1</th>\n",
       "      <td>5</td>\n",
       "      <td>2926</td>\n",
       "      <td>9</td>\n",
       "      <td>12</td>\n",
       "      <td>2</td>\n",
       "      <td>0</td>\n",
       "      <td>4</td>\n",
       "      <td>1</td>\n",
       "      <td>0</td>\n",
       "      <td>0</td>\n",
       "      <td>12</td>\n",
       "      <td>38</td>\n",
       "      <td>0</td>\n",
       "      <td>2</td>\n",
       "      <td>3</td>\n",
       "    </tr>\n",
       "    <tr>\n",
       "      <th>2</th>\n",
       "      <td>3</td>\n",
       "      <td>14082</td>\n",
       "      <td>11</td>\n",
       "      <td>8</td>\n",
       "      <td>0</td>\n",
       "      <td>1</td>\n",
       "      <td>4</td>\n",
       "      <td>1</td>\n",
       "      <td>0</td>\n",
       "      <td>0</td>\n",
       "      <td>39</td>\n",
       "      <td>38</td>\n",
       "      <td>0</td>\n",
       "      <td>2</td>\n",
       "      <td>5</td>\n",
       "    </tr>\n",
       "    <tr>\n",
       "      <th>3</th>\n",
       "      <td>3</td>\n",
       "      <td>15332</td>\n",
       "      <td>1</td>\n",
       "      <td>6</td>\n",
       "      <td>2</td>\n",
       "      <td>0</td>\n",
       "      <td>2</td>\n",
       "      <td>1</td>\n",
       "      <td>0</td>\n",
       "      <td>0</td>\n",
       "      <td>39</td>\n",
       "      <td>38</td>\n",
       "      <td>0</td>\n",
       "      <td>2</td>\n",
       "      <td>5</td>\n",
       "    </tr>\n",
       "    <tr>\n",
       "      <th>4</th>\n",
       "      <td>3</td>\n",
       "      <td>19346</td>\n",
       "      <td>9</td>\n",
       "      <td>12</td>\n",
       "      <td>2</td>\n",
       "      <td>5</td>\n",
       "      <td>2</td>\n",
       "      <td>0</td>\n",
       "      <td>0</td>\n",
       "      <td>0</td>\n",
       "      <td>39</td>\n",
       "      <td>4</td>\n",
       "      <td>0</td>\n",
       "      <td>0</td>\n",
       "      <td>9</td>\n",
       "    </tr>\n",
       "    <tr>\n",
       "      <th>...</th>\n",
       "      <td>...</td>\n",
       "      <td>...</td>\n",
       "      <td>...</td>\n",
       "      <td>...</td>\n",
       "      <td>...</td>\n",
       "      <td>...</td>\n",
       "      <td>...</td>\n",
       "      <td>...</td>\n",
       "      <td>...</td>\n",
       "      <td>...</td>\n",
       "      <td>...</td>\n",
       "      <td>...</td>\n",
       "      <td>...</td>\n",
       "      <td>...</td>\n",
       "      <td>...</td>\n",
       "    </tr>\n",
       "    <tr>\n",
       "      <th>32483</th>\n",
       "      <td>8</td>\n",
       "      <td>18856</td>\n",
       "      <td>9</td>\n",
       "      <td>12</td>\n",
       "      <td>2</td>\n",
       "      <td>5</td>\n",
       "      <td>4</td>\n",
       "      <td>0</td>\n",
       "      <td>0</td>\n",
       "      <td>0</td>\n",
       "      <td>54</td>\n",
       "      <td>38</td>\n",
       "      <td>1</td>\n",
       "      <td>0</td>\n",
       "      <td>9</td>\n",
       "    </tr>\n",
       "    <tr>\n",
       "      <th>32484</th>\n",
       "      <td>8</td>\n",
       "      <td>673</td>\n",
       "      <td>9</td>\n",
       "      <td>12</td>\n",
       "      <td>4</td>\n",
       "      <td>1</td>\n",
       "      <td>1</td>\n",
       "      <td>0</td>\n",
       "      <td>0</td>\n",
       "      <td>0</td>\n",
       "      <td>93</td>\n",
       "      <td>38</td>\n",
       "      <td>0</td>\n",
       "      <td>0</td>\n",
       "      <td>9</td>\n",
       "    </tr>\n",
       "    <tr>\n",
       "      <th>32492</th>\n",
       "      <td>8</td>\n",
       "      <td>17801</td>\n",
       "      <td>10</td>\n",
       "      <td>15</td>\n",
       "      <td>2</td>\n",
       "      <td>0</td>\n",
       "      <td>4</td>\n",
       "      <td>1</td>\n",
       "      <td>0</td>\n",
       "      <td>0</td>\n",
       "      <td>9</td>\n",
       "      <td>38</td>\n",
       "      <td>1</td>\n",
       "      <td>3</td>\n",
       "      <td>9</td>\n",
       "    </tr>\n",
       "    <tr>\n",
       "      <th>32494</th>\n",
       "      <td>8</td>\n",
       "      <td>13007</td>\n",
       "      <td>11</td>\n",
       "      <td>8</td>\n",
       "      <td>5</td>\n",
       "      <td>1</td>\n",
       "      <td>2</td>\n",
       "      <td>0</td>\n",
       "      <td>0</td>\n",
       "      <td>0</td>\n",
       "      <td>31</td>\n",
       "      <td>38</td>\n",
       "      <td>0</td>\n",
       "      <td>2</td>\n",
       "      <td>7</td>\n",
       "    </tr>\n",
       "    <tr>\n",
       "      <th>32495</th>\n",
       "      <td>8</td>\n",
       "      <td>6333</td>\n",
       "      <td>11</td>\n",
       "      <td>8</td>\n",
       "      <td>2</td>\n",
       "      <td>0</td>\n",
       "      <td>4</td>\n",
       "      <td>1</td>\n",
       "      <td>0</td>\n",
       "      <td>0</td>\n",
       "      <td>24</td>\n",
       "      <td>38</td>\n",
       "      <td>0</td>\n",
       "      <td>3</td>\n",
       "      <td>10</td>\n",
       "    </tr>\n",
       "  </tbody>\n",
       "</table>\n",
       "<p>32514 rows × 15 columns</p>\n",
       "</div>"
      ],
      "text/plain": [
       "       Workclass  Fnlwgt  Education  Education_num  Marital_status  \\\n",
       "0              7    2671          9             12               4   \n",
       "1              5    2926          9             12               2   \n",
       "2              3   14082         11              8               0   \n",
       "3              3   15332          1              6               2   \n",
       "4              3   19346          9             12               2   \n",
       "...          ...     ...        ...            ...             ...   \n",
       "32483          8   18856          9             12               2   \n",
       "32484          8     673          9             12               4   \n",
       "32492          8   17801         10             15               2   \n",
       "32494          8   13007         11              8               5   \n",
       "32495          8    6333         11              8               2   \n",
       "\n",
       "       relationship  race  sex  capital_gain  capital_loss  hours_per_week  \\\n",
       "0                 1     4    1            25             0              39   \n",
       "1                 0     4    1             0             0              12   \n",
       "2                 1     4    1             0             0              39   \n",
       "3                 0     2    1             0             0              39   \n",
       "4                 5     2    0             0             0              39   \n",
       "...             ...   ...  ...           ...           ...             ...   \n",
       "32483             5     4    0             0             0              54   \n",
       "32484             1     1    0             0             0              93   \n",
       "32492             0     4    1             0             0               9   \n",
       "32494             1     2    0             0             0              31   \n",
       "32495             0     4    1             0             0              24   \n",
       "\n",
       "       native_country  income  AgeRange  Occupation  \n",
       "0                  41       0         2           0  \n",
       "1                  38       0         2           3  \n",
       "2                  38       0         2           5  \n",
       "3                  38       0         2           5  \n",
       "4                   4       0         0           9  \n",
       "...               ...     ...       ...         ...  \n",
       "32483              38       1         0           9  \n",
       "32484              38       0         0           9  \n",
       "32492              38       1         3           9  \n",
       "32494              38       0         2           7  \n",
       "32495              38       0         3          10  \n",
       "\n",
       "[32514 rows x 15 columns]"
      ]
     },
     "execution_count": 567,
     "metadata": {},
     "output_type": "execute_result"
    }
   ],
   "source": [
    "df_final"
   ]
  },
  {
   "cell_type": "markdown",
   "id": "d3867628",
   "metadata": {},
   "source": [
    "## 3. Spliting the Dataset into training and testing data"
   ]
  },
  {
   "cell_type": "code",
   "execution_count": 568,
   "id": "2a640b93",
   "metadata": {},
   "outputs": [],
   "source": [
    "from sklearn.model_selection import train_test_split"
   ]
  },
  {
   "cell_type": "code",
   "execution_count": 580,
   "id": "159aeb7d",
   "metadata": {},
   "outputs": [
    {
     "name": "stdout",
     "output_type": "stream",
     "text": [
      "(32514, 14)\n",
      "(32514,)\n"
     ]
    }
   ],
   "source": [
    "x=df_final.drop(['income'],axis=1)\n",
    "y=df_final.iloc[:,-3]\n",
    "print(x.shape)\n",
    "print(y.shape)"
   ]
  },
  {
   "cell_type": "code",
   "execution_count": 581,
   "id": "e61632ce",
   "metadata": {},
   "outputs": [
    {
     "name": "stdout",
     "output_type": "stream",
     "text": [
      "<class 'pandas.core.frame.DataFrame'>\n",
      "<class 'pandas.core.series.Series'>\n"
     ]
    }
   ],
   "source": [
    "print(type(x))\n",
    "print(type(y))"
   ]
  },
  {
   "cell_type": "code",
   "execution_count": 582,
   "id": "8ea57f09",
   "metadata": {},
   "outputs": [
    {
     "data": {
      "text/html": [
       "<div>\n",
       "<style scoped>\n",
       "    .dataframe tbody tr th:only-of-type {\n",
       "        vertical-align: middle;\n",
       "    }\n",
       "\n",
       "    .dataframe tbody tr th {\n",
       "        vertical-align: top;\n",
       "    }\n",
       "\n",
       "    .dataframe thead th {\n",
       "        text-align: right;\n",
       "    }\n",
       "</style>\n",
       "<table border=\"1\" class=\"dataframe\">\n",
       "  <thead>\n",
       "    <tr style=\"text-align: right;\">\n",
       "      <th></th>\n",
       "      <th>Workclass</th>\n",
       "      <th>Fnlwgt</th>\n",
       "      <th>Education</th>\n",
       "      <th>Education_num</th>\n",
       "      <th>Marital_status</th>\n",
       "      <th>relationship</th>\n",
       "      <th>race</th>\n",
       "      <th>sex</th>\n",
       "      <th>capital_gain</th>\n",
       "      <th>capital_loss</th>\n",
       "      <th>hours_per_week</th>\n",
       "      <th>native_country</th>\n",
       "      <th>AgeRange</th>\n",
       "      <th>Occupation</th>\n",
       "    </tr>\n",
       "  </thead>\n",
       "  <tbody>\n",
       "    <tr>\n",
       "      <th>0</th>\n",
       "      <td>7</td>\n",
       "      <td>2671</td>\n",
       "      <td>9</td>\n",
       "      <td>12</td>\n",
       "      <td>4</td>\n",
       "      <td>1</td>\n",
       "      <td>4</td>\n",
       "      <td>1</td>\n",
       "      <td>25</td>\n",
       "      <td>0</td>\n",
       "      <td>39</td>\n",
       "      <td>41</td>\n",
       "      <td>2</td>\n",
       "      <td>0</td>\n",
       "    </tr>\n",
       "    <tr>\n",
       "      <th>1</th>\n",
       "      <td>5</td>\n",
       "      <td>2926</td>\n",
       "      <td>9</td>\n",
       "      <td>12</td>\n",
       "      <td>2</td>\n",
       "      <td>0</td>\n",
       "      <td>4</td>\n",
       "      <td>1</td>\n",
       "      <td>0</td>\n",
       "      <td>0</td>\n",
       "      <td>12</td>\n",
       "      <td>38</td>\n",
       "      <td>2</td>\n",
       "      <td>3</td>\n",
       "    </tr>\n",
       "    <tr>\n",
       "      <th>2</th>\n",
       "      <td>3</td>\n",
       "      <td>14082</td>\n",
       "      <td>11</td>\n",
       "      <td>8</td>\n",
       "      <td>0</td>\n",
       "      <td>1</td>\n",
       "      <td>4</td>\n",
       "      <td>1</td>\n",
       "      <td>0</td>\n",
       "      <td>0</td>\n",
       "      <td>39</td>\n",
       "      <td>38</td>\n",
       "      <td>2</td>\n",
       "      <td>5</td>\n",
       "    </tr>\n",
       "    <tr>\n",
       "      <th>3</th>\n",
       "      <td>3</td>\n",
       "      <td>15332</td>\n",
       "      <td>1</td>\n",
       "      <td>6</td>\n",
       "      <td>2</td>\n",
       "      <td>0</td>\n",
       "      <td>2</td>\n",
       "      <td>1</td>\n",
       "      <td>0</td>\n",
       "      <td>0</td>\n",
       "      <td>39</td>\n",
       "      <td>38</td>\n",
       "      <td>2</td>\n",
       "      <td>5</td>\n",
       "    </tr>\n",
       "    <tr>\n",
       "      <th>4</th>\n",
       "      <td>3</td>\n",
       "      <td>19346</td>\n",
       "      <td>9</td>\n",
       "      <td>12</td>\n",
       "      <td>2</td>\n",
       "      <td>5</td>\n",
       "      <td>2</td>\n",
       "      <td>0</td>\n",
       "      <td>0</td>\n",
       "      <td>0</td>\n",
       "      <td>39</td>\n",
       "      <td>4</td>\n",
       "      <td>0</td>\n",
       "      <td>9</td>\n",
       "    </tr>\n",
       "  </tbody>\n",
       "</table>\n",
       "</div>"
      ],
      "text/plain": [
       "   Workclass  Fnlwgt  Education  Education_num  Marital_status  relationship  \\\n",
       "0          7    2671          9             12               4             1   \n",
       "1          5    2926          9             12               2             0   \n",
       "2          3   14082         11              8               0             1   \n",
       "3          3   15332          1              6               2             0   \n",
       "4          3   19346          9             12               2             5   \n",
       "\n",
       "   race  sex  capital_gain  capital_loss  hours_per_week  native_country  \\\n",
       "0     4    1            25             0              39              41   \n",
       "1     4    1             0             0              12              38   \n",
       "2     4    1             0             0              39              38   \n",
       "3     2    1             0             0              39              38   \n",
       "4     2    0             0             0              39               4   \n",
       "\n",
       "   AgeRange  Occupation  \n",
       "0         2           0  \n",
       "1         2           3  \n",
       "2         2           5  \n",
       "3         2           5  \n",
       "4         0           9  "
      ]
     },
     "execution_count": 582,
     "metadata": {},
     "output_type": "execute_result"
    }
   ],
   "source": [
    "x.head()"
   ]
  },
  {
   "cell_type": "code",
   "execution_count": 583,
   "id": "aae3aa67",
   "metadata": {},
   "outputs": [
    {
     "data": {
      "text/plain": [
       "0    0\n",
       "1    0\n",
       "2    0\n",
       "3    0\n",
       "4    0\n",
       "Name: income, dtype: int32"
      ]
     },
     "execution_count": 583,
     "metadata": {},
     "output_type": "execute_result"
    }
   ],
   "source": [
    "y.head()"
   ]
  },
  {
   "cell_type": "code",
   "execution_count": 584,
   "id": "c3458c33",
   "metadata": {},
   "outputs": [
    {
     "name": "stdout",
     "output_type": "stream",
     "text": [
      "(26011, 14)\n",
      "(6503, 14)\n",
      "(26011,)\n",
      "(6503,)\n"
     ]
    }
   ],
   "source": [
    "x_tr,x_te,y_tr,y_te=train_test_split(x,y,test_size=0.20)\n",
    "print(x_tr.shape)\n",
    "print(x_te.shape)\n",
    "print(y_tr.shape)\n",
    "print(y_te.shape)"
   ]
  },
  {
   "cell_type": "markdown",
   "id": "e8a28de6",
   "metadata": {},
   "source": [
    "## 4. Applying the classifier models on training dataset and generating predictions for the            test dataset"
   ]
  },
  {
   "cell_type": "markdown",
   "id": "de5d7cdc",
   "metadata": {},
   "source": [
    "#### 4a. DECISIONTREE CLASSIFIER"
   ]
  },
  {
   "cell_type": "code",
   "execution_count": 585,
   "id": "3656f7c7",
   "metadata": {},
   "outputs": [],
   "source": [
    "from sklearn.tree import DecisionTreeClassifier"
   ]
  },
  {
   "cell_type": "code",
   "execution_count": 586,
   "id": "104b8fa9",
   "metadata": {},
   "outputs": [
    {
     "data": {
      "text/plain": [
       "DecisionTreeClassifier()"
      ]
     },
     "execution_count": 586,
     "metadata": {},
     "output_type": "execute_result"
    }
   ],
   "source": [
    "m1= DecisionTreeClassifier()\n",
    "m1.fit(x_tr,y_tr)"
   ]
  },
  {
   "cell_type": "code",
   "execution_count": 587,
   "id": "256e3207",
   "metadata": {},
   "outputs": [
    {
     "name": "stdout",
     "output_type": "stream",
     "text": [
      "training Score 0.999769328361078\n",
      "testing Score 0.8087036752268184\n",
      "[0 1 0 ... 0 1 0]\n"
     ]
    }
   ],
   "source": [
    "print('training Score',m1.score(x_tr,y_tr))\n",
    "print('testing Score',m1.score(x_te,y_te))\n",
    "ypred_m1=m1.predict(x_te)\n",
    "print(ypred_m1)"
   ]
  },
  {
   "cell_type": "markdown",
   "id": "0dbd2f62",
   "metadata": {},
   "source": [
    "#### 4b. RANDOMFOREST CLASSIFIER"
   ]
  },
  {
   "cell_type": "code",
   "execution_count": 588,
   "id": "642073f2",
   "metadata": {},
   "outputs": [],
   "source": [
    "from sklearn.ensemble import RandomForestClassifier"
   ]
  },
  {
   "cell_type": "code",
   "execution_count": 589,
   "id": "aae91357",
   "metadata": {},
   "outputs": [
    {
     "data": {
      "text/plain": [
       "RandomForestClassifier()"
      ]
     },
     "execution_count": 589,
     "metadata": {},
     "output_type": "execute_result"
    }
   ],
   "source": [
    "m2= RandomForestClassifier()\n",
    "m2.fit(x_tr,y_tr)"
   ]
  },
  {
   "cell_type": "code",
   "execution_count": 591,
   "id": "5b887f97",
   "metadata": {},
   "outputs": [
    {
     "name": "stdout",
     "output_type": "stream",
     "text": [
      "training Score 0.9996924378147707\n",
      "testing Score 0.846839920036906\n",
      "[0 1 0 ... 0 0 0]\n"
     ]
    }
   ],
   "source": [
    "print('training Score',m2.score(x_tr,y_tr))\n",
    "print('testing Score',m2.score(x_te,y_te))\n",
    "ypred_m2=m2.predict(x_te)\n",
    "print(ypred_m2)"
   ]
  },
  {
   "cell_type": "markdown",
   "id": "11d63036",
   "metadata": {},
   "source": [
    "#### 4c. KNN CLASSIFIER"
   ]
  },
  {
   "cell_type": "code",
   "execution_count": 592,
   "id": "d42aafdd",
   "metadata": {},
   "outputs": [],
   "source": [
    "from sklearn.neighbors import KNeighborsClassifier"
   ]
  },
  {
   "cell_type": "code",
   "execution_count": 619,
   "id": "f883b368",
   "metadata": {},
   "outputs": [
    {
     "data": {
      "text/plain": [
       "KNeighborsClassifier(n_neighbors=11)"
      ]
     },
     "execution_count": 619,
     "metadata": {},
     "output_type": "execute_result"
    }
   ],
   "source": [
    "m3=KNeighborsClassifier(n_neighbors=11)\n",
    "m3.fit(x_tr,y_tr)"
   ]
  },
  {
   "cell_type": "code",
   "execution_count": 620,
   "id": "99412d7f",
   "metadata": {},
   "outputs": [
    {
     "name": "stdout",
     "output_type": "stream",
     "text": [
      "training Score 0.8159240321402483\n",
      "testing Score 0.7850222974011994\n",
      "[0 0 0 ... 0 0 0]\n"
     ]
    }
   ],
   "source": [
    "print('training Score',m3.score(x_tr,y_tr))\n",
    "print('testing Score',m3.score(x_te,y_te))\n",
    "ypred_m3=m3.predict(x_te)\n",
    "print(ypred_m3)"
   ]
  },
  {
   "cell_type": "markdown",
   "id": "787047a7",
   "metadata": {},
   "source": [
    "#### 4d. LOGISTIC REGRESSION"
   ]
  },
  {
   "cell_type": "code",
   "execution_count": 621,
   "id": "33bece04",
   "metadata": {},
   "outputs": [],
   "source": [
    "from sklearn.linear_model import LogisticRegression"
   ]
  },
  {
   "cell_type": "code",
   "execution_count": 622,
   "id": "10635561",
   "metadata": {},
   "outputs": [
    {
     "name": "stderr",
     "output_type": "stream",
     "text": [
      "C:\\Users\\heman\\anaconda3\\lib\\site-packages\\sklearn\\linear_model\\_logistic.py:763: ConvergenceWarning: lbfgs failed to converge (status=1):\n",
      "STOP: TOTAL NO. of ITERATIONS REACHED LIMIT.\n",
      "\n",
      "Increase the number of iterations (max_iter) or scale the data as shown in:\n",
      "    https://scikit-learn.org/stable/modules/preprocessing.html\n",
      "Please also refer to the documentation for alternative solver options:\n",
      "    https://scikit-learn.org/stable/modules/linear_model.html#logistic-regression\n",
      "  n_iter_i = _check_optimize_result(\n"
     ]
    },
    {
     "data": {
      "text/plain": [
       "LogisticRegression()"
      ]
     },
     "execution_count": 622,
     "metadata": {},
     "output_type": "execute_result"
    }
   ],
   "source": [
    "m4=LogisticRegression()\n",
    "m4.fit(x_tr,y_tr)"
   ]
  },
  {
   "cell_type": "code",
   "execution_count": null,
   "id": "81477bef",
   "metadata": {},
   "outputs": [],
   "source": [
    "print('training Score',m4.score(x_tr,y_tr))\n",
    "print('testing Score',m4.score(x_te,y_te))\n",
    "ypred_m4=m4.predict(x_te)\n",
    "print(ypred_m4)"
   ]
  },
  {
   "cell_type": "markdown",
   "id": "dd39569c",
   "metadata": {},
   "source": [
    "#### 4e. SVM CLASSIFIER"
   ]
  },
  {
   "cell_type": "code",
   "execution_count": 624,
   "id": "f29c1786",
   "metadata": {},
   "outputs": [],
   "source": [
    "from sklearn.svm import SVC"
   ]
  },
  {
   "cell_type": "code",
   "execution_count": null,
   "id": "826adc0d",
   "metadata": {},
   "outputs": [],
   "source": [
    "m5=SVC(kernel='linear',C=10)\n",
    "m5.fit(x_tr,y_tr)"
   ]
  },
  {
   "cell_type": "code",
   "execution_count": null,
   "id": "1d52b44f",
   "metadata": {},
   "outputs": [],
   "source": [
    "print('training Score',m5.score(x_tr,y_tr))\n",
    "print('testing Score',m5.score(x_te,y_te))\n",
    "ypred_m5=m5.predict(x_te)\n",
    "print(ypred_m5)"
   ]
  },
  {
   "cell_type": "code",
   "execution_count": null,
   "id": "0ebbca58",
   "metadata": {},
   "outputs": [],
   "source": []
  }
 ],
 "metadata": {
  "kernelspec": {
   "display_name": "Python 3 (ipykernel)",
   "language": "python",
   "name": "python3"
  },
  "language_info": {
   "codemirror_mode": {
    "name": "ipython",
    "version": 3
   },
   "file_extension": ".py",
   "mimetype": "text/x-python",
   "name": "python",
   "nbconvert_exporter": "python",
   "pygments_lexer": "ipython3",
   "version": "3.9.7"
  }
 },
 "nbformat": 4,
 "nbformat_minor": 5
}
